{
  "nbformat": 4,
  "nbformat_minor": 0,
  "metadata": {
    "colab": {
      "provenance": [],
      "collapsed_sections": [
        "c1J9yn_B8RV3",
        "TR00JgWOXNL0",
        "_0JSwhxSm3NR",
        "KlyVKwlc8gdK",
        "MJq_OC9_9Q-b",
        "e4iGK7JRocJT",
        "i1lbA29GEqC6",
        "P-imLauptCOC"
      ],
      "gpuType": "T4"
    },
    "kernelspec": {
      "name": "python3",
      "display_name": "Python 3"
    },
    "accelerator": "GPU",
    "widgets": {
      "application/vnd.jupyter.widget-state+json": {
        "0011001e51494b94b25be986c3f145de": {
          "model_module": "@jupyter-widgets/controls",
          "model_name": "HBoxModel",
          "model_module_version": "1.5.0",
          "state": {
            "_dom_classes": [],
            "_model_module": "@jupyter-widgets/controls",
            "_model_module_version": "1.5.0",
            "_model_name": "HBoxModel",
            "_view_count": null,
            "_view_module": "@jupyter-widgets/controls",
            "_view_module_version": "1.5.0",
            "_view_name": "HBoxView",
            "box_style": "",
            "children": [
              "IPY_MODEL_2e3585725a89438d9eb40368a43c7f4d",
              "IPY_MODEL_04da7fb599984ca09613cc1f889b47b1",
              "IPY_MODEL_c2818e83bff34a5792f2dde35446e42b"
            ],
            "layout": "IPY_MODEL_fa199985e47341ad85a99347326da4c1"
          }
        },
        "2e3585725a89438d9eb40368a43c7f4d": {
          "model_module": "@jupyter-widgets/controls",
          "model_name": "HTMLModel",
          "model_module_version": "1.5.0",
          "state": {
            "_dom_classes": [],
            "_model_module": "@jupyter-widgets/controls",
            "_model_module_version": "1.5.0",
            "_model_name": "HTMLModel",
            "_view_count": null,
            "_view_module": "@jupyter-widgets/controls",
            "_view_module_version": "1.5.0",
            "_view_name": "HTMLView",
            "description": "",
            "description_tooltip": null,
            "layout": "IPY_MODEL_a4975bbc711644f3a074c5868fb292af",
            "placeholder": "​",
            "style": "IPY_MODEL_29b2a5a897444e15b74cad0696377e57",
            "value": "100%"
          }
        },
        "04da7fb599984ca09613cc1f889b47b1": {
          "model_module": "@jupyter-widgets/controls",
          "model_name": "FloatProgressModel",
          "model_module_version": "1.5.0",
          "state": {
            "_dom_classes": [],
            "_model_module": "@jupyter-widgets/controls",
            "_model_module_version": "1.5.0",
            "_model_name": "FloatProgressModel",
            "_view_count": null,
            "_view_module": "@jupyter-widgets/controls",
            "_view_module_version": "1.5.0",
            "_view_name": "ProgressView",
            "bar_style": "success",
            "description": "",
            "description_tooltip": null,
            "layout": "IPY_MODEL_4f31312747f040b8b8bf653cef0a7e36",
            "max": 508,
            "min": 0,
            "orientation": "horizontal",
            "style": "IPY_MODEL_01db28938b4840a4b0abae56be1ca5d6",
            "value": 508
          }
        },
        "c2818e83bff34a5792f2dde35446e42b": {
          "model_module": "@jupyter-widgets/controls",
          "model_name": "HTMLModel",
          "model_module_version": "1.5.0",
          "state": {
            "_dom_classes": [],
            "_model_module": "@jupyter-widgets/controls",
            "_model_module_version": "1.5.0",
            "_model_name": "HTMLModel",
            "_view_count": null,
            "_view_module": "@jupyter-widgets/controls",
            "_view_module_version": "1.5.0",
            "_view_name": "HTMLView",
            "description": "",
            "description_tooltip": null,
            "layout": "IPY_MODEL_65764d36b08f4b3c96f8ec883971f349",
            "placeholder": "​",
            "style": "IPY_MODEL_482b06e1c66f423998ca2fab7eb5e976",
            "value": " 508/508 [00:02&lt;00:00, 205.90it/s]"
          }
        },
        "fa199985e47341ad85a99347326da4c1": {
          "model_module": "@jupyter-widgets/base",
          "model_name": "LayoutModel",
          "model_module_version": "1.2.0",
          "state": {
            "_model_module": "@jupyter-widgets/base",
            "_model_module_version": "1.2.0",
            "_model_name": "LayoutModel",
            "_view_count": null,
            "_view_module": "@jupyter-widgets/base",
            "_view_module_version": "1.2.0",
            "_view_name": "LayoutView",
            "align_content": null,
            "align_items": null,
            "align_self": null,
            "border": null,
            "bottom": null,
            "display": null,
            "flex": null,
            "flex_flow": null,
            "grid_area": null,
            "grid_auto_columns": null,
            "grid_auto_flow": null,
            "grid_auto_rows": null,
            "grid_column": null,
            "grid_gap": null,
            "grid_row": null,
            "grid_template_areas": null,
            "grid_template_columns": null,
            "grid_template_rows": null,
            "height": null,
            "justify_content": null,
            "justify_items": null,
            "left": null,
            "margin": null,
            "max_height": null,
            "max_width": null,
            "min_height": null,
            "min_width": null,
            "object_fit": null,
            "object_position": null,
            "order": null,
            "overflow": null,
            "overflow_x": null,
            "overflow_y": null,
            "padding": null,
            "right": null,
            "top": null,
            "visibility": null,
            "width": null
          }
        },
        "a4975bbc711644f3a074c5868fb292af": {
          "model_module": "@jupyter-widgets/base",
          "model_name": "LayoutModel",
          "model_module_version": "1.2.0",
          "state": {
            "_model_module": "@jupyter-widgets/base",
            "_model_module_version": "1.2.0",
            "_model_name": "LayoutModel",
            "_view_count": null,
            "_view_module": "@jupyter-widgets/base",
            "_view_module_version": "1.2.0",
            "_view_name": "LayoutView",
            "align_content": null,
            "align_items": null,
            "align_self": null,
            "border": null,
            "bottom": null,
            "display": null,
            "flex": null,
            "flex_flow": null,
            "grid_area": null,
            "grid_auto_columns": null,
            "grid_auto_flow": null,
            "grid_auto_rows": null,
            "grid_column": null,
            "grid_gap": null,
            "grid_row": null,
            "grid_template_areas": null,
            "grid_template_columns": null,
            "grid_template_rows": null,
            "height": null,
            "justify_content": null,
            "justify_items": null,
            "left": null,
            "margin": null,
            "max_height": null,
            "max_width": null,
            "min_height": null,
            "min_width": null,
            "object_fit": null,
            "object_position": null,
            "order": null,
            "overflow": null,
            "overflow_x": null,
            "overflow_y": null,
            "padding": null,
            "right": null,
            "top": null,
            "visibility": null,
            "width": null
          }
        },
        "29b2a5a897444e15b74cad0696377e57": {
          "model_module": "@jupyter-widgets/controls",
          "model_name": "DescriptionStyleModel",
          "model_module_version": "1.5.0",
          "state": {
            "_model_module": "@jupyter-widgets/controls",
            "_model_module_version": "1.5.0",
            "_model_name": "DescriptionStyleModel",
            "_view_count": null,
            "_view_module": "@jupyter-widgets/base",
            "_view_module_version": "1.2.0",
            "_view_name": "StyleView",
            "description_width": ""
          }
        },
        "4f31312747f040b8b8bf653cef0a7e36": {
          "model_module": "@jupyter-widgets/base",
          "model_name": "LayoutModel",
          "model_module_version": "1.2.0",
          "state": {
            "_model_module": "@jupyter-widgets/base",
            "_model_module_version": "1.2.0",
            "_model_name": "LayoutModel",
            "_view_count": null,
            "_view_module": "@jupyter-widgets/base",
            "_view_module_version": "1.2.0",
            "_view_name": "LayoutView",
            "align_content": null,
            "align_items": null,
            "align_self": null,
            "border": null,
            "bottom": null,
            "display": null,
            "flex": null,
            "flex_flow": null,
            "grid_area": null,
            "grid_auto_columns": null,
            "grid_auto_flow": null,
            "grid_auto_rows": null,
            "grid_column": null,
            "grid_gap": null,
            "grid_row": null,
            "grid_template_areas": null,
            "grid_template_columns": null,
            "grid_template_rows": null,
            "height": null,
            "justify_content": null,
            "justify_items": null,
            "left": null,
            "margin": null,
            "max_height": null,
            "max_width": null,
            "min_height": null,
            "min_width": null,
            "object_fit": null,
            "object_position": null,
            "order": null,
            "overflow": null,
            "overflow_x": null,
            "overflow_y": null,
            "padding": null,
            "right": null,
            "top": null,
            "visibility": null,
            "width": null
          }
        },
        "01db28938b4840a4b0abae56be1ca5d6": {
          "model_module": "@jupyter-widgets/controls",
          "model_name": "ProgressStyleModel",
          "model_module_version": "1.5.0",
          "state": {
            "_model_module": "@jupyter-widgets/controls",
            "_model_module_version": "1.5.0",
            "_model_name": "ProgressStyleModel",
            "_view_count": null,
            "_view_module": "@jupyter-widgets/base",
            "_view_module_version": "1.2.0",
            "_view_name": "StyleView",
            "bar_color": null,
            "description_width": ""
          }
        },
        "65764d36b08f4b3c96f8ec883971f349": {
          "model_module": "@jupyter-widgets/base",
          "model_name": "LayoutModel",
          "model_module_version": "1.2.0",
          "state": {
            "_model_module": "@jupyter-widgets/base",
            "_model_module_version": "1.2.0",
            "_model_name": "LayoutModel",
            "_view_count": null,
            "_view_module": "@jupyter-widgets/base",
            "_view_module_version": "1.2.0",
            "_view_name": "LayoutView",
            "align_content": null,
            "align_items": null,
            "align_self": null,
            "border": null,
            "bottom": null,
            "display": null,
            "flex": null,
            "flex_flow": null,
            "grid_area": null,
            "grid_auto_columns": null,
            "grid_auto_flow": null,
            "grid_auto_rows": null,
            "grid_column": null,
            "grid_gap": null,
            "grid_row": null,
            "grid_template_areas": null,
            "grid_template_columns": null,
            "grid_template_rows": null,
            "height": null,
            "justify_content": null,
            "justify_items": null,
            "left": null,
            "margin": null,
            "max_height": null,
            "max_width": null,
            "min_height": null,
            "min_width": null,
            "object_fit": null,
            "object_position": null,
            "order": null,
            "overflow": null,
            "overflow_x": null,
            "overflow_y": null,
            "padding": null,
            "right": null,
            "top": null,
            "visibility": null,
            "width": null
          }
        },
        "482b06e1c66f423998ca2fab7eb5e976": {
          "model_module": "@jupyter-widgets/controls",
          "model_name": "DescriptionStyleModel",
          "model_module_version": "1.5.0",
          "state": {
            "_model_module": "@jupyter-widgets/controls",
            "_model_module_version": "1.5.0",
            "_model_name": "DescriptionStyleModel",
            "_view_count": null,
            "_view_module": "@jupyter-widgets/base",
            "_view_module_version": "1.2.0",
            "_view_name": "StyleView",
            "description_width": ""
          }
        },
        "f5006183d41041c5a76f48823315c617": {
          "model_module": "@jupyter-widgets/controls",
          "model_name": "HBoxModel",
          "model_module_version": "1.5.0",
          "state": {
            "_dom_classes": [],
            "_model_module": "@jupyter-widgets/controls",
            "_model_module_version": "1.5.0",
            "_model_name": "HBoxModel",
            "_view_count": null,
            "_view_module": "@jupyter-widgets/controls",
            "_view_module_version": "1.5.0",
            "_view_name": "HBoxView",
            "box_style": "",
            "children": [
              "IPY_MODEL_083400294c3d48f79b3717912b488611",
              "IPY_MODEL_328054f1f9ae4ae4aa57ce9e9d6bed7f",
              "IPY_MODEL_83d1efc7bec44af7ae0eec6109f4825f"
            ],
            "layout": "IPY_MODEL_99529a17a03c437c86bf4fd589810133"
          }
        },
        "083400294c3d48f79b3717912b488611": {
          "model_module": "@jupyter-widgets/controls",
          "model_name": "HTMLModel",
          "model_module_version": "1.5.0",
          "state": {
            "_dom_classes": [],
            "_model_module": "@jupyter-widgets/controls",
            "_model_module_version": "1.5.0",
            "_model_name": "HTMLModel",
            "_view_count": null,
            "_view_module": "@jupyter-widgets/controls",
            "_view_module_version": "1.5.0",
            "_view_name": "HTMLView",
            "description": "",
            "description_tooltip": null,
            "layout": "IPY_MODEL_cbd90b31429a41a79b6a788c253cbff1",
            "placeholder": "​",
            "style": "IPY_MODEL_58d4ec875ebb42059cb160741a45effd",
            "value": "100%"
          }
        },
        "328054f1f9ae4ae4aa57ce9e9d6bed7f": {
          "model_module": "@jupyter-widgets/controls",
          "model_name": "FloatProgressModel",
          "model_module_version": "1.5.0",
          "state": {
            "_dom_classes": [],
            "_model_module": "@jupyter-widgets/controls",
            "_model_module_version": "1.5.0",
            "_model_name": "FloatProgressModel",
            "_view_count": null,
            "_view_module": "@jupyter-widgets/controls",
            "_view_module_version": "1.5.0",
            "_view_name": "ProgressView",
            "bar_style": "success",
            "description": "",
            "description_tooltip": null,
            "layout": "IPY_MODEL_449cb65d39ca4bc0883390d71be8c07c",
            "max": 64,
            "min": 0,
            "orientation": "horizontal",
            "style": "IPY_MODEL_d8b13f8f430f44808db02ee13a83e61a",
            "value": 64
          }
        },
        "83d1efc7bec44af7ae0eec6109f4825f": {
          "model_module": "@jupyter-widgets/controls",
          "model_name": "HTMLModel",
          "model_module_version": "1.5.0",
          "state": {
            "_dom_classes": [],
            "_model_module": "@jupyter-widgets/controls",
            "_model_module_version": "1.5.0",
            "_model_name": "HTMLModel",
            "_view_count": null,
            "_view_module": "@jupyter-widgets/controls",
            "_view_module_version": "1.5.0",
            "_view_name": "HTMLView",
            "description": "",
            "description_tooltip": null,
            "layout": "IPY_MODEL_756840c2b1e849bdafe5aa70ada26ccb",
            "placeholder": "​",
            "style": "IPY_MODEL_8bd67e9229d54d6abf1d68e9f9c0ac67",
            "value": " 64/64 [00:00&lt;00:00, 215.68it/s]"
          }
        },
        "99529a17a03c437c86bf4fd589810133": {
          "model_module": "@jupyter-widgets/base",
          "model_name": "LayoutModel",
          "model_module_version": "1.2.0",
          "state": {
            "_model_module": "@jupyter-widgets/base",
            "_model_module_version": "1.2.0",
            "_model_name": "LayoutModel",
            "_view_count": null,
            "_view_module": "@jupyter-widgets/base",
            "_view_module_version": "1.2.0",
            "_view_name": "LayoutView",
            "align_content": null,
            "align_items": null,
            "align_self": null,
            "border": null,
            "bottom": null,
            "display": null,
            "flex": null,
            "flex_flow": null,
            "grid_area": null,
            "grid_auto_columns": null,
            "grid_auto_flow": null,
            "grid_auto_rows": null,
            "grid_column": null,
            "grid_gap": null,
            "grid_row": null,
            "grid_template_areas": null,
            "grid_template_columns": null,
            "grid_template_rows": null,
            "height": null,
            "justify_content": null,
            "justify_items": null,
            "left": null,
            "margin": null,
            "max_height": null,
            "max_width": null,
            "min_height": null,
            "min_width": null,
            "object_fit": null,
            "object_position": null,
            "order": null,
            "overflow": null,
            "overflow_x": null,
            "overflow_y": null,
            "padding": null,
            "right": null,
            "top": null,
            "visibility": null,
            "width": null
          }
        },
        "cbd90b31429a41a79b6a788c253cbff1": {
          "model_module": "@jupyter-widgets/base",
          "model_name": "LayoutModel",
          "model_module_version": "1.2.0",
          "state": {
            "_model_module": "@jupyter-widgets/base",
            "_model_module_version": "1.2.0",
            "_model_name": "LayoutModel",
            "_view_count": null,
            "_view_module": "@jupyter-widgets/base",
            "_view_module_version": "1.2.0",
            "_view_name": "LayoutView",
            "align_content": null,
            "align_items": null,
            "align_self": null,
            "border": null,
            "bottom": null,
            "display": null,
            "flex": null,
            "flex_flow": null,
            "grid_area": null,
            "grid_auto_columns": null,
            "grid_auto_flow": null,
            "grid_auto_rows": null,
            "grid_column": null,
            "grid_gap": null,
            "grid_row": null,
            "grid_template_areas": null,
            "grid_template_columns": null,
            "grid_template_rows": null,
            "height": null,
            "justify_content": null,
            "justify_items": null,
            "left": null,
            "margin": null,
            "max_height": null,
            "max_width": null,
            "min_height": null,
            "min_width": null,
            "object_fit": null,
            "object_position": null,
            "order": null,
            "overflow": null,
            "overflow_x": null,
            "overflow_y": null,
            "padding": null,
            "right": null,
            "top": null,
            "visibility": null,
            "width": null
          }
        },
        "58d4ec875ebb42059cb160741a45effd": {
          "model_module": "@jupyter-widgets/controls",
          "model_name": "DescriptionStyleModel",
          "model_module_version": "1.5.0",
          "state": {
            "_model_module": "@jupyter-widgets/controls",
            "_model_module_version": "1.5.0",
            "_model_name": "DescriptionStyleModel",
            "_view_count": null,
            "_view_module": "@jupyter-widgets/base",
            "_view_module_version": "1.2.0",
            "_view_name": "StyleView",
            "description_width": ""
          }
        },
        "449cb65d39ca4bc0883390d71be8c07c": {
          "model_module": "@jupyter-widgets/base",
          "model_name": "LayoutModel",
          "model_module_version": "1.2.0",
          "state": {
            "_model_module": "@jupyter-widgets/base",
            "_model_module_version": "1.2.0",
            "_model_name": "LayoutModel",
            "_view_count": null,
            "_view_module": "@jupyter-widgets/base",
            "_view_module_version": "1.2.0",
            "_view_name": "LayoutView",
            "align_content": null,
            "align_items": null,
            "align_self": null,
            "border": null,
            "bottom": null,
            "display": null,
            "flex": null,
            "flex_flow": null,
            "grid_area": null,
            "grid_auto_columns": null,
            "grid_auto_flow": null,
            "grid_auto_rows": null,
            "grid_column": null,
            "grid_gap": null,
            "grid_row": null,
            "grid_template_areas": null,
            "grid_template_columns": null,
            "grid_template_rows": null,
            "height": null,
            "justify_content": null,
            "justify_items": null,
            "left": null,
            "margin": null,
            "max_height": null,
            "max_width": null,
            "min_height": null,
            "min_width": null,
            "object_fit": null,
            "object_position": null,
            "order": null,
            "overflow": null,
            "overflow_x": null,
            "overflow_y": null,
            "padding": null,
            "right": null,
            "top": null,
            "visibility": null,
            "width": null
          }
        },
        "d8b13f8f430f44808db02ee13a83e61a": {
          "model_module": "@jupyter-widgets/controls",
          "model_name": "ProgressStyleModel",
          "model_module_version": "1.5.0",
          "state": {
            "_model_module": "@jupyter-widgets/controls",
            "_model_module_version": "1.5.0",
            "_model_name": "ProgressStyleModel",
            "_view_count": null,
            "_view_module": "@jupyter-widgets/base",
            "_view_module_version": "1.2.0",
            "_view_name": "StyleView",
            "bar_color": null,
            "description_width": ""
          }
        },
        "756840c2b1e849bdafe5aa70ada26ccb": {
          "model_module": "@jupyter-widgets/base",
          "model_name": "LayoutModel",
          "model_module_version": "1.2.0",
          "state": {
            "_model_module": "@jupyter-widgets/base",
            "_model_module_version": "1.2.0",
            "_model_name": "LayoutModel",
            "_view_count": null,
            "_view_module": "@jupyter-widgets/base",
            "_view_module_version": "1.2.0",
            "_view_name": "LayoutView",
            "align_content": null,
            "align_items": null,
            "align_self": null,
            "border": null,
            "bottom": null,
            "display": null,
            "flex": null,
            "flex_flow": null,
            "grid_area": null,
            "grid_auto_columns": null,
            "grid_auto_flow": null,
            "grid_auto_rows": null,
            "grid_column": null,
            "grid_gap": null,
            "grid_row": null,
            "grid_template_areas": null,
            "grid_template_columns": null,
            "grid_template_rows": null,
            "height": null,
            "justify_content": null,
            "justify_items": null,
            "left": null,
            "margin": null,
            "max_height": null,
            "max_width": null,
            "min_height": null,
            "min_width": null,
            "object_fit": null,
            "object_position": null,
            "order": null,
            "overflow": null,
            "overflow_x": null,
            "overflow_y": null,
            "padding": null,
            "right": null,
            "top": null,
            "visibility": null,
            "width": null
          }
        },
        "8bd67e9229d54d6abf1d68e9f9c0ac67": {
          "model_module": "@jupyter-widgets/controls",
          "model_name": "DescriptionStyleModel",
          "model_module_version": "1.5.0",
          "state": {
            "_model_module": "@jupyter-widgets/controls",
            "_model_module_version": "1.5.0",
            "_model_name": "DescriptionStyleModel",
            "_view_count": null,
            "_view_module": "@jupyter-widgets/base",
            "_view_module_version": "1.2.0",
            "_view_name": "StyleView",
            "description_width": ""
          }
        },
        "503e452c17d84edcac36b1b372bc5169": {
          "model_module": "@jupyter-widgets/controls",
          "model_name": "HBoxModel",
          "model_module_version": "1.5.0",
          "state": {
            "_dom_classes": [],
            "_model_module": "@jupyter-widgets/controls",
            "_model_module_version": "1.5.0",
            "_model_name": "HBoxModel",
            "_view_count": null,
            "_view_module": "@jupyter-widgets/controls",
            "_view_module_version": "1.5.0",
            "_view_name": "HBoxView",
            "box_style": "",
            "children": [
              "IPY_MODEL_c2c9301be4684aef8db6e5e9c31e8cdd",
              "IPY_MODEL_9a19df7929ca4f5b91ec29f84d897394",
              "IPY_MODEL_7b105c539b1d44a5a660221d1fee791a"
            ],
            "layout": "IPY_MODEL_35bb301b592249be9e3064b66159a1ee"
          }
        },
        "c2c9301be4684aef8db6e5e9c31e8cdd": {
          "model_module": "@jupyter-widgets/controls",
          "model_name": "HTMLModel",
          "model_module_version": "1.5.0",
          "state": {
            "_dom_classes": [],
            "_model_module": "@jupyter-widgets/controls",
            "_model_module_version": "1.5.0",
            "_model_name": "HTMLModel",
            "_view_count": null,
            "_view_module": "@jupyter-widgets/controls",
            "_view_module_version": "1.5.0",
            "_view_name": "HTMLView",
            "description": "",
            "description_tooltip": null,
            "layout": "IPY_MODEL_a900b880396945c4b8473c35f4a3561d",
            "placeholder": "​",
            "style": "IPY_MODEL_1d4e4e5975304b1cb971935995d21457",
            "value": "100%"
          }
        },
        "9a19df7929ca4f5b91ec29f84d897394": {
          "model_module": "@jupyter-widgets/controls",
          "model_name": "FloatProgressModel",
          "model_module_version": "1.5.0",
          "state": {
            "_dom_classes": [],
            "_model_module": "@jupyter-widgets/controls",
            "_model_module_version": "1.5.0",
            "_model_name": "FloatProgressModel",
            "_view_count": null,
            "_view_module": "@jupyter-widgets/controls",
            "_view_module_version": "1.5.0",
            "_view_name": "ProgressView",
            "bar_style": "success",
            "description": "",
            "description_tooltip": null,
            "layout": "IPY_MODEL_e04a2c34d9e44279a9a2a35da2ff3a34",
            "max": 64,
            "min": 0,
            "orientation": "horizontal",
            "style": "IPY_MODEL_2643282899464ed78c4a12ba89c46d6a",
            "value": 64
          }
        },
        "7b105c539b1d44a5a660221d1fee791a": {
          "model_module": "@jupyter-widgets/controls",
          "model_name": "HTMLModel",
          "model_module_version": "1.5.0",
          "state": {
            "_dom_classes": [],
            "_model_module": "@jupyter-widgets/controls",
            "_model_module_version": "1.5.0",
            "_model_name": "HTMLModel",
            "_view_count": null,
            "_view_module": "@jupyter-widgets/controls",
            "_view_module_version": "1.5.0",
            "_view_name": "HTMLView",
            "description": "",
            "description_tooltip": null,
            "layout": "IPY_MODEL_61282af9a8094b218f69d4dc786803d5",
            "placeholder": "​",
            "style": "IPY_MODEL_4b6f833707ae47dba7f14341fc2fd68d",
            "value": " 64/64 [00:00&lt;00:00, 185.32it/s]"
          }
        },
        "35bb301b592249be9e3064b66159a1ee": {
          "model_module": "@jupyter-widgets/base",
          "model_name": "LayoutModel",
          "model_module_version": "1.2.0",
          "state": {
            "_model_module": "@jupyter-widgets/base",
            "_model_module_version": "1.2.0",
            "_model_name": "LayoutModel",
            "_view_count": null,
            "_view_module": "@jupyter-widgets/base",
            "_view_module_version": "1.2.0",
            "_view_name": "LayoutView",
            "align_content": null,
            "align_items": null,
            "align_self": null,
            "border": null,
            "bottom": null,
            "display": null,
            "flex": null,
            "flex_flow": null,
            "grid_area": null,
            "grid_auto_columns": null,
            "grid_auto_flow": null,
            "grid_auto_rows": null,
            "grid_column": null,
            "grid_gap": null,
            "grid_row": null,
            "grid_template_areas": null,
            "grid_template_columns": null,
            "grid_template_rows": null,
            "height": null,
            "justify_content": null,
            "justify_items": null,
            "left": null,
            "margin": null,
            "max_height": null,
            "max_width": null,
            "min_height": null,
            "min_width": null,
            "object_fit": null,
            "object_position": null,
            "order": null,
            "overflow": null,
            "overflow_x": null,
            "overflow_y": null,
            "padding": null,
            "right": null,
            "top": null,
            "visibility": null,
            "width": null
          }
        },
        "a900b880396945c4b8473c35f4a3561d": {
          "model_module": "@jupyter-widgets/base",
          "model_name": "LayoutModel",
          "model_module_version": "1.2.0",
          "state": {
            "_model_module": "@jupyter-widgets/base",
            "_model_module_version": "1.2.0",
            "_model_name": "LayoutModel",
            "_view_count": null,
            "_view_module": "@jupyter-widgets/base",
            "_view_module_version": "1.2.0",
            "_view_name": "LayoutView",
            "align_content": null,
            "align_items": null,
            "align_self": null,
            "border": null,
            "bottom": null,
            "display": null,
            "flex": null,
            "flex_flow": null,
            "grid_area": null,
            "grid_auto_columns": null,
            "grid_auto_flow": null,
            "grid_auto_rows": null,
            "grid_column": null,
            "grid_gap": null,
            "grid_row": null,
            "grid_template_areas": null,
            "grid_template_columns": null,
            "grid_template_rows": null,
            "height": null,
            "justify_content": null,
            "justify_items": null,
            "left": null,
            "margin": null,
            "max_height": null,
            "max_width": null,
            "min_height": null,
            "min_width": null,
            "object_fit": null,
            "object_position": null,
            "order": null,
            "overflow": null,
            "overflow_x": null,
            "overflow_y": null,
            "padding": null,
            "right": null,
            "top": null,
            "visibility": null,
            "width": null
          }
        },
        "1d4e4e5975304b1cb971935995d21457": {
          "model_module": "@jupyter-widgets/controls",
          "model_name": "DescriptionStyleModel",
          "model_module_version": "1.5.0",
          "state": {
            "_model_module": "@jupyter-widgets/controls",
            "_model_module_version": "1.5.0",
            "_model_name": "DescriptionStyleModel",
            "_view_count": null,
            "_view_module": "@jupyter-widgets/base",
            "_view_module_version": "1.2.0",
            "_view_name": "StyleView",
            "description_width": ""
          }
        },
        "e04a2c34d9e44279a9a2a35da2ff3a34": {
          "model_module": "@jupyter-widgets/base",
          "model_name": "LayoutModel",
          "model_module_version": "1.2.0",
          "state": {
            "_model_module": "@jupyter-widgets/base",
            "_model_module_version": "1.2.0",
            "_model_name": "LayoutModel",
            "_view_count": null,
            "_view_module": "@jupyter-widgets/base",
            "_view_module_version": "1.2.0",
            "_view_name": "LayoutView",
            "align_content": null,
            "align_items": null,
            "align_self": null,
            "border": null,
            "bottom": null,
            "display": null,
            "flex": null,
            "flex_flow": null,
            "grid_area": null,
            "grid_auto_columns": null,
            "grid_auto_flow": null,
            "grid_auto_rows": null,
            "grid_column": null,
            "grid_gap": null,
            "grid_row": null,
            "grid_template_areas": null,
            "grid_template_columns": null,
            "grid_template_rows": null,
            "height": null,
            "justify_content": null,
            "justify_items": null,
            "left": null,
            "margin": null,
            "max_height": null,
            "max_width": null,
            "min_height": null,
            "min_width": null,
            "object_fit": null,
            "object_position": null,
            "order": null,
            "overflow": null,
            "overflow_x": null,
            "overflow_y": null,
            "padding": null,
            "right": null,
            "top": null,
            "visibility": null,
            "width": null
          }
        },
        "2643282899464ed78c4a12ba89c46d6a": {
          "model_module": "@jupyter-widgets/controls",
          "model_name": "ProgressStyleModel",
          "model_module_version": "1.5.0",
          "state": {
            "_model_module": "@jupyter-widgets/controls",
            "_model_module_version": "1.5.0",
            "_model_name": "ProgressStyleModel",
            "_view_count": null,
            "_view_module": "@jupyter-widgets/base",
            "_view_module_version": "1.2.0",
            "_view_name": "StyleView",
            "bar_color": null,
            "description_width": ""
          }
        },
        "61282af9a8094b218f69d4dc786803d5": {
          "model_module": "@jupyter-widgets/base",
          "model_name": "LayoutModel",
          "model_module_version": "1.2.0",
          "state": {
            "_model_module": "@jupyter-widgets/base",
            "_model_module_version": "1.2.0",
            "_model_name": "LayoutModel",
            "_view_count": null,
            "_view_module": "@jupyter-widgets/base",
            "_view_module_version": "1.2.0",
            "_view_name": "LayoutView",
            "align_content": null,
            "align_items": null,
            "align_self": null,
            "border": null,
            "bottom": null,
            "display": null,
            "flex": null,
            "flex_flow": null,
            "grid_area": null,
            "grid_auto_columns": null,
            "grid_auto_flow": null,
            "grid_auto_rows": null,
            "grid_column": null,
            "grid_gap": null,
            "grid_row": null,
            "grid_template_areas": null,
            "grid_template_columns": null,
            "grid_template_rows": null,
            "height": null,
            "justify_content": null,
            "justify_items": null,
            "left": null,
            "margin": null,
            "max_height": null,
            "max_width": null,
            "min_height": null,
            "min_width": null,
            "object_fit": null,
            "object_position": null,
            "order": null,
            "overflow": null,
            "overflow_x": null,
            "overflow_y": null,
            "padding": null,
            "right": null,
            "top": null,
            "visibility": null,
            "width": null
          }
        },
        "4b6f833707ae47dba7f14341fc2fd68d": {
          "model_module": "@jupyter-widgets/controls",
          "model_name": "DescriptionStyleModel",
          "model_module_version": "1.5.0",
          "state": {
            "_model_module": "@jupyter-widgets/controls",
            "_model_module_version": "1.5.0",
            "_model_name": "DescriptionStyleModel",
            "_view_count": null,
            "_view_module": "@jupyter-widgets/base",
            "_view_module_version": "1.2.0",
            "_view_name": "StyleView",
            "description_width": ""
          }
        },
        "ebe8e482cd9846d7b423d7f5ec51d25e": {
          "model_module": "@jupyter-widgets/controls",
          "model_name": "HBoxModel",
          "model_module_version": "1.5.0",
          "state": {
            "_dom_classes": [],
            "_model_module": "@jupyter-widgets/controls",
            "_model_module_version": "1.5.0",
            "_model_name": "HBoxModel",
            "_view_count": null,
            "_view_module": "@jupyter-widgets/controls",
            "_view_module_version": "1.5.0",
            "_view_name": "HBoxView",
            "box_style": "",
            "children": [
              "IPY_MODEL_22801bb9525341339b7afb443c78310d",
              "IPY_MODEL_be0a1323d6ad42fa9ed16e0e6b926ff7",
              "IPY_MODEL_17b0257348434ce3b8fb8d5e61ffa293"
            ],
            "layout": "IPY_MODEL_1f1348799d8b480ba489d689f01dc46b"
          }
        },
        "22801bb9525341339b7afb443c78310d": {
          "model_module": "@jupyter-widgets/controls",
          "model_name": "HTMLModel",
          "model_module_version": "1.5.0",
          "state": {
            "_dom_classes": [],
            "_model_module": "@jupyter-widgets/controls",
            "_model_module_version": "1.5.0",
            "_model_name": "HTMLModel",
            "_view_count": null,
            "_view_module": "@jupyter-widgets/controls",
            "_view_module_version": "1.5.0",
            "_view_name": "HTMLView",
            "description": "",
            "description_tooltip": null,
            "layout": "IPY_MODEL_6011a5952f2349888aeee5aa3db52516",
            "placeholder": "​",
            "style": "IPY_MODEL_e932f9fcfde240b0a930a86338450d5e",
            "value": "100%"
          }
        },
        "be0a1323d6ad42fa9ed16e0e6b926ff7": {
          "model_module": "@jupyter-widgets/controls",
          "model_name": "FloatProgressModel",
          "model_module_version": "1.5.0",
          "state": {
            "_dom_classes": [],
            "_model_module": "@jupyter-widgets/controls",
            "_model_module_version": "1.5.0",
            "_model_name": "FloatProgressModel",
            "_view_count": null,
            "_view_module": "@jupyter-widgets/controls",
            "_view_module_version": "1.5.0",
            "_view_name": "ProgressView",
            "bar_style": "success",
            "description": "",
            "description_tooltip": null,
            "layout": "IPY_MODEL_bf21fa576a7e4aeba40e5a56bdb5278e",
            "max": 1,
            "min": 0,
            "orientation": "horizontal",
            "style": "IPY_MODEL_4ba4451a3f71404bb7c26bef527fb4e1",
            "value": 1
          }
        },
        "17b0257348434ce3b8fb8d5e61ffa293": {
          "model_module": "@jupyter-widgets/controls",
          "model_name": "HTMLModel",
          "model_module_version": "1.5.0",
          "state": {
            "_dom_classes": [],
            "_model_module": "@jupyter-widgets/controls",
            "_model_module_version": "1.5.0",
            "_model_name": "HTMLModel",
            "_view_count": null,
            "_view_module": "@jupyter-widgets/controls",
            "_view_module_version": "1.5.0",
            "_view_name": "HTMLView",
            "description": "",
            "description_tooltip": null,
            "layout": "IPY_MODEL_afabf47a1f9741cd8410d96da4599743",
            "placeholder": "​",
            "style": "IPY_MODEL_7c0506beedbf40dc8432817c638d0419",
            "value": " 1/1 [00:00&lt;00:00,  7.63it/s]"
          }
        },
        "1f1348799d8b480ba489d689f01dc46b": {
          "model_module": "@jupyter-widgets/base",
          "model_name": "LayoutModel",
          "model_module_version": "1.2.0",
          "state": {
            "_model_module": "@jupyter-widgets/base",
            "_model_module_version": "1.2.0",
            "_model_name": "LayoutModel",
            "_view_count": null,
            "_view_module": "@jupyter-widgets/base",
            "_view_module_version": "1.2.0",
            "_view_name": "LayoutView",
            "align_content": null,
            "align_items": null,
            "align_self": null,
            "border": null,
            "bottom": null,
            "display": null,
            "flex": null,
            "flex_flow": null,
            "grid_area": null,
            "grid_auto_columns": null,
            "grid_auto_flow": null,
            "grid_auto_rows": null,
            "grid_column": null,
            "grid_gap": null,
            "grid_row": null,
            "grid_template_areas": null,
            "grid_template_columns": null,
            "grid_template_rows": null,
            "height": null,
            "justify_content": null,
            "justify_items": null,
            "left": null,
            "margin": null,
            "max_height": null,
            "max_width": null,
            "min_height": null,
            "min_width": null,
            "object_fit": null,
            "object_position": null,
            "order": null,
            "overflow": null,
            "overflow_x": null,
            "overflow_y": null,
            "padding": null,
            "right": null,
            "top": null,
            "visibility": null,
            "width": null
          }
        },
        "6011a5952f2349888aeee5aa3db52516": {
          "model_module": "@jupyter-widgets/base",
          "model_name": "LayoutModel",
          "model_module_version": "1.2.0",
          "state": {
            "_model_module": "@jupyter-widgets/base",
            "_model_module_version": "1.2.0",
            "_model_name": "LayoutModel",
            "_view_count": null,
            "_view_module": "@jupyter-widgets/base",
            "_view_module_version": "1.2.0",
            "_view_name": "LayoutView",
            "align_content": null,
            "align_items": null,
            "align_self": null,
            "border": null,
            "bottom": null,
            "display": null,
            "flex": null,
            "flex_flow": null,
            "grid_area": null,
            "grid_auto_columns": null,
            "grid_auto_flow": null,
            "grid_auto_rows": null,
            "grid_column": null,
            "grid_gap": null,
            "grid_row": null,
            "grid_template_areas": null,
            "grid_template_columns": null,
            "grid_template_rows": null,
            "height": null,
            "justify_content": null,
            "justify_items": null,
            "left": null,
            "margin": null,
            "max_height": null,
            "max_width": null,
            "min_height": null,
            "min_width": null,
            "object_fit": null,
            "object_position": null,
            "order": null,
            "overflow": null,
            "overflow_x": null,
            "overflow_y": null,
            "padding": null,
            "right": null,
            "top": null,
            "visibility": null,
            "width": null
          }
        },
        "e932f9fcfde240b0a930a86338450d5e": {
          "model_module": "@jupyter-widgets/controls",
          "model_name": "DescriptionStyleModel",
          "model_module_version": "1.5.0",
          "state": {
            "_model_module": "@jupyter-widgets/controls",
            "_model_module_version": "1.5.0",
            "_model_name": "DescriptionStyleModel",
            "_view_count": null,
            "_view_module": "@jupyter-widgets/base",
            "_view_module_version": "1.2.0",
            "_view_name": "StyleView",
            "description_width": ""
          }
        },
        "bf21fa576a7e4aeba40e5a56bdb5278e": {
          "model_module": "@jupyter-widgets/base",
          "model_name": "LayoutModel",
          "model_module_version": "1.2.0",
          "state": {
            "_model_module": "@jupyter-widgets/base",
            "_model_module_version": "1.2.0",
            "_model_name": "LayoutModel",
            "_view_count": null,
            "_view_module": "@jupyter-widgets/base",
            "_view_module_version": "1.2.0",
            "_view_name": "LayoutView",
            "align_content": null,
            "align_items": null,
            "align_self": null,
            "border": null,
            "bottom": null,
            "display": null,
            "flex": null,
            "flex_flow": null,
            "grid_area": null,
            "grid_auto_columns": null,
            "grid_auto_flow": null,
            "grid_auto_rows": null,
            "grid_column": null,
            "grid_gap": null,
            "grid_row": null,
            "grid_template_areas": null,
            "grid_template_columns": null,
            "grid_template_rows": null,
            "height": null,
            "justify_content": null,
            "justify_items": null,
            "left": null,
            "margin": null,
            "max_height": null,
            "max_width": null,
            "min_height": null,
            "min_width": null,
            "object_fit": null,
            "object_position": null,
            "order": null,
            "overflow": null,
            "overflow_x": null,
            "overflow_y": null,
            "padding": null,
            "right": null,
            "top": null,
            "visibility": null,
            "width": null
          }
        },
        "4ba4451a3f71404bb7c26bef527fb4e1": {
          "model_module": "@jupyter-widgets/controls",
          "model_name": "ProgressStyleModel",
          "model_module_version": "1.5.0",
          "state": {
            "_model_module": "@jupyter-widgets/controls",
            "_model_module_version": "1.5.0",
            "_model_name": "ProgressStyleModel",
            "_view_count": null,
            "_view_module": "@jupyter-widgets/base",
            "_view_module_version": "1.2.0",
            "_view_name": "StyleView",
            "bar_color": null,
            "description_width": ""
          }
        },
        "afabf47a1f9741cd8410d96da4599743": {
          "model_module": "@jupyter-widgets/base",
          "model_name": "LayoutModel",
          "model_module_version": "1.2.0",
          "state": {
            "_model_module": "@jupyter-widgets/base",
            "_model_module_version": "1.2.0",
            "_model_name": "LayoutModel",
            "_view_count": null,
            "_view_module": "@jupyter-widgets/base",
            "_view_module_version": "1.2.0",
            "_view_name": "LayoutView",
            "align_content": null,
            "align_items": null,
            "align_self": null,
            "border": null,
            "bottom": null,
            "display": null,
            "flex": null,
            "flex_flow": null,
            "grid_area": null,
            "grid_auto_columns": null,
            "grid_auto_flow": null,
            "grid_auto_rows": null,
            "grid_column": null,
            "grid_gap": null,
            "grid_row": null,
            "grid_template_areas": null,
            "grid_template_columns": null,
            "grid_template_rows": null,
            "height": null,
            "justify_content": null,
            "justify_items": null,
            "left": null,
            "margin": null,
            "max_height": null,
            "max_width": null,
            "min_height": null,
            "min_width": null,
            "object_fit": null,
            "object_position": null,
            "order": null,
            "overflow": null,
            "overflow_x": null,
            "overflow_y": null,
            "padding": null,
            "right": null,
            "top": null,
            "visibility": null,
            "width": null
          }
        },
        "7c0506beedbf40dc8432817c638d0419": {
          "model_module": "@jupyter-widgets/controls",
          "model_name": "DescriptionStyleModel",
          "model_module_version": "1.5.0",
          "state": {
            "_model_module": "@jupyter-widgets/controls",
            "_model_module_version": "1.5.0",
            "_model_name": "DescriptionStyleModel",
            "_view_count": null,
            "_view_module": "@jupyter-widgets/base",
            "_view_module_version": "1.2.0",
            "_view_name": "StyleView",
            "description_width": ""
          }
        },
        "96ed21c832c748b1a81166bb8596d400": {
          "model_module": "@jupyter-widgets/controls",
          "model_name": "HBoxModel",
          "model_module_version": "1.5.0",
          "state": {
            "_dom_classes": [],
            "_model_module": "@jupyter-widgets/controls",
            "_model_module_version": "1.5.0",
            "_model_name": "HBoxModel",
            "_view_count": null,
            "_view_module": "@jupyter-widgets/controls",
            "_view_module_version": "1.5.0",
            "_view_name": "HBoxView",
            "box_style": "",
            "children": [
              "IPY_MODEL_d5e7ef981e854fd782328fc151c7ccb2",
              "IPY_MODEL_f9aa4aec3d4f421dba8c4b4279b45a03",
              "IPY_MODEL_008649fdf0cb4294bce4bc9203fd17da"
            ],
            "layout": "IPY_MODEL_3b7185b3d083419a837ef0fc36e9fc33"
          }
        },
        "d5e7ef981e854fd782328fc151c7ccb2": {
          "model_module": "@jupyter-widgets/controls",
          "model_name": "HTMLModel",
          "model_module_version": "1.5.0",
          "state": {
            "_dom_classes": [],
            "_model_module": "@jupyter-widgets/controls",
            "_model_module_version": "1.5.0",
            "_model_name": "HTMLModel",
            "_view_count": null,
            "_view_module": "@jupyter-widgets/controls",
            "_view_module_version": "1.5.0",
            "_view_name": "HTMLView",
            "description": "",
            "description_tooltip": null,
            "layout": "IPY_MODEL_56b4e4efa86b4f588d34634d23a685f2",
            "placeholder": "​",
            "style": "IPY_MODEL_45e04979890b4af6b29eff9c069f6ed1",
            "value": "100%"
          }
        },
        "f9aa4aec3d4f421dba8c4b4279b45a03": {
          "model_module": "@jupyter-widgets/controls",
          "model_name": "FloatProgressModel",
          "model_module_version": "1.5.0",
          "state": {
            "_dom_classes": [],
            "_model_module": "@jupyter-widgets/controls",
            "_model_module_version": "1.5.0",
            "_model_name": "FloatProgressModel",
            "_view_count": null,
            "_view_module": "@jupyter-widgets/controls",
            "_view_module_version": "1.5.0",
            "_view_name": "ProgressView",
            "bar_style": "success",
            "description": "",
            "description_tooltip": null,
            "layout": "IPY_MODEL_397c8e9b569b439287b5f8b54bb9f084",
            "max": 1,
            "min": 0,
            "orientation": "horizontal",
            "style": "IPY_MODEL_11020a92590d469ea63d49f377d000cd",
            "value": 1
          }
        },
        "008649fdf0cb4294bce4bc9203fd17da": {
          "model_module": "@jupyter-widgets/controls",
          "model_name": "HTMLModel",
          "model_module_version": "1.5.0",
          "state": {
            "_dom_classes": [],
            "_model_module": "@jupyter-widgets/controls",
            "_model_module_version": "1.5.0",
            "_model_name": "HTMLModel",
            "_view_count": null,
            "_view_module": "@jupyter-widgets/controls",
            "_view_module_version": "1.5.0",
            "_view_name": "HTMLView",
            "description": "",
            "description_tooltip": null,
            "layout": "IPY_MODEL_14e0cfe6c7154901a2664d7f57f56706",
            "placeholder": "​",
            "style": "IPY_MODEL_cc161bfe19b24bdc9ac4e076b406c7c4",
            "value": " 1/1 [00:00&lt;00:00, 26.81it/s]"
          }
        },
        "3b7185b3d083419a837ef0fc36e9fc33": {
          "model_module": "@jupyter-widgets/base",
          "model_name": "LayoutModel",
          "model_module_version": "1.2.0",
          "state": {
            "_model_module": "@jupyter-widgets/base",
            "_model_module_version": "1.2.0",
            "_model_name": "LayoutModel",
            "_view_count": null,
            "_view_module": "@jupyter-widgets/base",
            "_view_module_version": "1.2.0",
            "_view_name": "LayoutView",
            "align_content": null,
            "align_items": null,
            "align_self": null,
            "border": null,
            "bottom": null,
            "display": null,
            "flex": null,
            "flex_flow": null,
            "grid_area": null,
            "grid_auto_columns": null,
            "grid_auto_flow": null,
            "grid_auto_rows": null,
            "grid_column": null,
            "grid_gap": null,
            "grid_row": null,
            "grid_template_areas": null,
            "grid_template_columns": null,
            "grid_template_rows": null,
            "height": null,
            "justify_content": null,
            "justify_items": null,
            "left": null,
            "margin": null,
            "max_height": null,
            "max_width": null,
            "min_height": null,
            "min_width": null,
            "object_fit": null,
            "object_position": null,
            "order": null,
            "overflow": null,
            "overflow_x": null,
            "overflow_y": null,
            "padding": null,
            "right": null,
            "top": null,
            "visibility": null,
            "width": null
          }
        },
        "56b4e4efa86b4f588d34634d23a685f2": {
          "model_module": "@jupyter-widgets/base",
          "model_name": "LayoutModel",
          "model_module_version": "1.2.0",
          "state": {
            "_model_module": "@jupyter-widgets/base",
            "_model_module_version": "1.2.0",
            "_model_name": "LayoutModel",
            "_view_count": null,
            "_view_module": "@jupyter-widgets/base",
            "_view_module_version": "1.2.0",
            "_view_name": "LayoutView",
            "align_content": null,
            "align_items": null,
            "align_self": null,
            "border": null,
            "bottom": null,
            "display": null,
            "flex": null,
            "flex_flow": null,
            "grid_area": null,
            "grid_auto_columns": null,
            "grid_auto_flow": null,
            "grid_auto_rows": null,
            "grid_column": null,
            "grid_gap": null,
            "grid_row": null,
            "grid_template_areas": null,
            "grid_template_columns": null,
            "grid_template_rows": null,
            "height": null,
            "justify_content": null,
            "justify_items": null,
            "left": null,
            "margin": null,
            "max_height": null,
            "max_width": null,
            "min_height": null,
            "min_width": null,
            "object_fit": null,
            "object_position": null,
            "order": null,
            "overflow": null,
            "overflow_x": null,
            "overflow_y": null,
            "padding": null,
            "right": null,
            "top": null,
            "visibility": null,
            "width": null
          }
        },
        "45e04979890b4af6b29eff9c069f6ed1": {
          "model_module": "@jupyter-widgets/controls",
          "model_name": "DescriptionStyleModel",
          "model_module_version": "1.5.0",
          "state": {
            "_model_module": "@jupyter-widgets/controls",
            "_model_module_version": "1.5.0",
            "_model_name": "DescriptionStyleModel",
            "_view_count": null,
            "_view_module": "@jupyter-widgets/base",
            "_view_module_version": "1.2.0",
            "_view_name": "StyleView",
            "description_width": ""
          }
        },
        "397c8e9b569b439287b5f8b54bb9f084": {
          "model_module": "@jupyter-widgets/base",
          "model_name": "LayoutModel",
          "model_module_version": "1.2.0",
          "state": {
            "_model_module": "@jupyter-widgets/base",
            "_model_module_version": "1.2.0",
            "_model_name": "LayoutModel",
            "_view_count": null,
            "_view_module": "@jupyter-widgets/base",
            "_view_module_version": "1.2.0",
            "_view_name": "LayoutView",
            "align_content": null,
            "align_items": null,
            "align_self": null,
            "border": null,
            "bottom": null,
            "display": null,
            "flex": null,
            "flex_flow": null,
            "grid_area": null,
            "grid_auto_columns": null,
            "grid_auto_flow": null,
            "grid_auto_rows": null,
            "grid_column": null,
            "grid_gap": null,
            "grid_row": null,
            "grid_template_areas": null,
            "grid_template_columns": null,
            "grid_template_rows": null,
            "height": null,
            "justify_content": null,
            "justify_items": null,
            "left": null,
            "margin": null,
            "max_height": null,
            "max_width": null,
            "min_height": null,
            "min_width": null,
            "object_fit": null,
            "object_position": null,
            "order": null,
            "overflow": null,
            "overflow_x": null,
            "overflow_y": null,
            "padding": null,
            "right": null,
            "top": null,
            "visibility": null,
            "width": null
          }
        },
        "11020a92590d469ea63d49f377d000cd": {
          "model_module": "@jupyter-widgets/controls",
          "model_name": "ProgressStyleModel",
          "model_module_version": "1.5.0",
          "state": {
            "_model_module": "@jupyter-widgets/controls",
            "_model_module_version": "1.5.0",
            "_model_name": "ProgressStyleModel",
            "_view_count": null,
            "_view_module": "@jupyter-widgets/base",
            "_view_module_version": "1.2.0",
            "_view_name": "StyleView",
            "bar_color": null,
            "description_width": ""
          }
        },
        "14e0cfe6c7154901a2664d7f57f56706": {
          "model_module": "@jupyter-widgets/base",
          "model_name": "LayoutModel",
          "model_module_version": "1.2.0",
          "state": {
            "_model_module": "@jupyter-widgets/base",
            "_model_module_version": "1.2.0",
            "_model_name": "LayoutModel",
            "_view_count": null,
            "_view_module": "@jupyter-widgets/base",
            "_view_module_version": "1.2.0",
            "_view_name": "LayoutView",
            "align_content": null,
            "align_items": null,
            "align_self": null,
            "border": null,
            "bottom": null,
            "display": null,
            "flex": null,
            "flex_flow": null,
            "grid_area": null,
            "grid_auto_columns": null,
            "grid_auto_flow": null,
            "grid_auto_rows": null,
            "grid_column": null,
            "grid_gap": null,
            "grid_row": null,
            "grid_template_areas": null,
            "grid_template_columns": null,
            "grid_template_rows": null,
            "height": null,
            "justify_content": null,
            "justify_items": null,
            "left": null,
            "margin": null,
            "max_height": null,
            "max_width": null,
            "min_height": null,
            "min_width": null,
            "object_fit": null,
            "object_position": null,
            "order": null,
            "overflow": null,
            "overflow_x": null,
            "overflow_y": null,
            "padding": null,
            "right": null,
            "top": null,
            "visibility": null,
            "width": null
          }
        },
        "cc161bfe19b24bdc9ac4e076b406c7c4": {
          "model_module": "@jupyter-widgets/controls",
          "model_name": "DescriptionStyleModel",
          "model_module_version": "1.5.0",
          "state": {
            "_model_module": "@jupyter-widgets/controls",
            "_model_module_version": "1.5.0",
            "_model_name": "DescriptionStyleModel",
            "_view_count": null,
            "_view_module": "@jupyter-widgets/base",
            "_view_module_version": "1.2.0",
            "_view_name": "StyleView",
            "description_width": ""
          }
        }
      }
    }
  },
  "cells": [
    {
      "cell_type": "markdown",
      "metadata": {
        "id": "c1J9yn_B8RV3"
      },
      "source": [
        "# Install and import libraries"
      ]
    },
    {
      "cell_type": "code",
      "source": [
        "!pip install datasets"
      ],
      "metadata": {
        "colab": {
          "base_uri": "https://localhost:8080/"
        },
        "id": "7dH6nrZVlofi",
        "outputId": "8fadee8e-ac16-4b07-9628-42897178a6c5"
      },
      "execution_count": null,
      "outputs": [
        {
          "output_type": "stream",
          "name": "stdout",
          "text": [
            "\u001b[31mERROR: Operation cancelled by user\u001b[0m\u001b[31m\n",
            "\u001b[0mTraceback (most recent call last):\n",
            "  File \"/usr/local/lib/python3.10/dist-packages/pip/_internal/cli/base_command.py\", line 169, in exc_logging_wrapper\n",
            "    status = run_func(*args)\n",
            "  File \"/usr/local/lib/python3.10/dist-packages/pip/_internal/cli/req_command.py\", line 242, in wrapper\n",
            "    return func(self, options, args)\n",
            "  File \"/usr/local/lib/python3.10/dist-packages/pip/_internal/commands/install.py\", line 377, in run\n",
            "    requirement_set = resolver.resolve(\n",
            "  File \"/usr/local/lib/python3.10/dist-packages/pip/_internal/resolution/resolvelib/resolver.py\", line 92, in resolve\n",
            "    result = self._result = resolver.resolve(\n",
            "  File \"/usr/local/lib/python3.10/dist-packages/pip/_vendor/resolvelib/resolvers.py\", line 546, in resolve\n",
            "    state = resolution.resolve(requirements, max_rounds=max_rounds)\n",
            "  File \"/usr/local/lib/python3.10/dist-packages/pip/_vendor/resolvelib/resolvers.py\", line 397, in resolve\n",
            "    self._add_to_criteria(self.state.criteria, r, parent=None)\n",
            "  File \"/usr/local/lib/python3.10/dist-packages/pip/_vendor/resolvelib/resolvers.py\", line 173, in _add_to_criteria\n",
            "    if not criterion.candidates:\n",
            "  File \"/usr/local/lib/python3.10/dist-packages/pip/_vendor/resolvelib/structs.py\", line 156, in __bool__\n",
            "    return bool(self._sequence)\n",
            "  File \"/usr/local/lib/python3.10/dist-packages/pip/_internal/resolution/resolvelib/found_candidates.py\", line 155, in __bool__\n",
            "    return any(self)\n",
            "  File \"/usr/local/lib/python3.10/dist-packages/pip/_internal/resolution/resolvelib/found_candidates.py\", line 143, in <genexpr>\n",
            "    return (c for c in iterator if id(c) not in self._incompatible_ids)\n",
            "  File \"/usr/local/lib/python3.10/dist-packages/pip/_internal/resolution/resolvelib/found_candidates.py\", line 44, in _iter_built\n",
            "    for version, func in infos:\n",
            "  File \"/usr/local/lib/python3.10/dist-packages/pip/_internal/resolution/resolvelib/factory.py\", line 279, in iter_index_candidate_infos\n",
            "    result = self._finder.find_best_candidate(\n",
            "  File \"/usr/local/lib/python3.10/dist-packages/pip/_internal/index/package_finder.py\", line 890, in find_best_candidate\n",
            "    candidates = self.find_all_candidates(project_name)\n",
            "  File \"/usr/local/lib/python3.10/dist-packages/pip/_internal/index/package_finder.py\", line 831, in find_all_candidates\n",
            "    page_candidates = list(page_candidates_it)\n",
            "  File \"/usr/local/lib/python3.10/dist-packages/pip/_internal/index/sources.py\", line 134, in page_candidates\n",
            "    yield from self._candidates_from_page(self._link)\n",
            "  File \"/usr/local/lib/python3.10/dist-packages/pip/_internal/index/package_finder.py\", line 791, in process_project_url\n",
            "    index_response = self._link_collector.fetch_response(project_url)\n",
            "  File \"/usr/local/lib/python3.10/dist-packages/pip/_internal/index/collector.py\", line 461, in fetch_response\n",
            "    return _get_index_content(location, session=self.session)\n",
            "KeyboardInterrupt\n",
            "\n",
            "During handling of the above exception, another exception occurred:\n",
            "\n",
            "Traceback (most recent call last):\n",
            "  File \"/usr/local/bin/pip3\", line 8, in <module>\n",
            "    sys.exit(main())\n",
            "  File \"/usr/local/lib/python3.10/dist-packages/pip/_internal/cli/main.py\", line 79, in main\n",
            "    return command.main(cmd_args)\n",
            "  File \"/usr/local/lib/python3.10/dist-packages/pip/_internal/cli/base_command.py\", line 101, in main\n",
            "    return self._main(args)\n",
            "  File \"/usr/local/lib/python3.10/dist-packages/pip/_internal/cli/base_command.py\", line 223, in _main\n",
            "    return run(options, args)\n",
            "  File \"/usr/local/lib/python3.10/dist-packages/pip/_internal/cli/base_command.py\", line 206, in exc_logging_wrapper\n",
            "    logger.critical(\"Operation cancelled by user\")\n",
            "  File \"/usr/lib/python3.10/logging/__init__.py\", line 1524, in critical\n",
            "    self._log(CRITICAL, msg, args, **kwargs)\n",
            "  File \"/usr/lib/python3.10/logging/__init__.py\", line 1624, in _log\n",
            "    self.handle(record)\n",
            "  File \"/usr/lib/python3.10/logging/__init__.py\", line 1634, in handle\n",
            "    self.callHandlers(record)\n",
            "  File \"/usr/lib/python3.10/logging/__init__.py\", line 1696, in callHandlers\n",
            "    hdlr.handle(record)\n",
            "  File \"/usr/lib/python3.10/logging/__init__.py\", line 968, in handle\n",
            "    self.emit(record)\n",
            "  File \"/usr/lib/python3.10/logging/handlers.py\", line 75, in emit\n",
            "    logging.FileHandler.emit(self, record)\n",
            "  File \"/usr/lib/python3.10/logging/__init__.py\", line 1218, in emit\n",
            "    StreamHandler.emit(self, record)\n",
            "  File \"/usr/lib/python3.10/logging/__init__.py\", line 1100, in emit\n",
            "    msg = self.format(record)\n",
            "  File \"/usr/lib/python3.10/logging/__init__.py\", line 943, in format\n",
            "    return fmt.format(record)\n",
            "  File \"/usr/local/lib/python3.10/dist-packages/pip/_internal/utils/logging.py\", line 118, in format\n",
            "    prefix = f\"{self.formatTime(record)} \"\n",
            "  File \"/usr/lib/python3.10/logging/__init__.py\", line 619, in formatTime\n",
            "    s = time.strftime(self.default_time_format, ct)\n",
            "KeyboardInterrupt\n",
            "^C\n"
          ]
        }
      ]
    },
    {
      "cell_type": "code",
      "source": [
        "!pip install torchsummaryX==1.3.0 -q"
      ],
      "metadata": {
        "id": "9jQ9EfyyytTh"
      },
      "execution_count": null,
      "outputs": []
    },
    {
      "cell_type": "code",
      "source": [
        "!pip install metrics"
      ],
      "metadata": {
        "colab": {
          "base_uri": "https://localhost:8080/"
        },
        "id": "UtaPrDAaPWzo",
        "outputId": "ec2e424d-e2fb-4eb2-ae50-72a8bdecacee"
      },
      "execution_count": null,
      "outputs": [
        {
          "output_type": "stream",
          "name": "stdout",
          "text": [
            "Collecting metrics\n",
            "  Downloading metrics-0.3.3.tar.gz (18 kB)\n",
            "  Preparing metadata (setup.py) ... \u001b[?25l\u001b[?25hdone\n",
            "Collecting Pygments==2.2.0 (from metrics)\n",
            "  Downloading Pygments-2.2.0-py2.py3-none-any.whl (841 kB)\n",
            "\u001b[2K     \u001b[90m━━━━━━━━━━━━━━━━━━━━━━━━━━━━━━━━━━━━━━━━\u001b[0m \u001b[32m841.7/841.7 kB\u001b[0m \u001b[31m9.6 MB/s\u001b[0m eta \u001b[36m0:00:00\u001b[0m\n",
            "\u001b[?25hCollecting pathspec==0.5.5 (from metrics)\n",
            "  Downloading pathspec-0.5.5.tar.gz (21 kB)\n",
            "  Preparing metadata (setup.py) ... \u001b[?25l\u001b[?25hdone\n",
            "Collecting pathlib2>=2.3.0 (from metrics)\n",
            "  Downloading pathlib2-2.3.7.post1-py2.py3-none-any.whl (18 kB)\n",
            "Requirement already satisfied: six in /usr/local/lib/python3.10/dist-packages (from pathlib2>=2.3.0->metrics) (1.16.0)\n",
            "Building wheels for collected packages: metrics, pathspec\n",
            "  Building wheel for metrics (setup.py) ... \u001b[?25l\u001b[?25hdone\n",
            "  Created wheel for metrics: filename=metrics-0.3.3-py2.py3-none-any.whl size=17793 sha256=235385afe61e33dd9ec22be8c0309f4cec17cd96d4f61681646cf7ba990fc839\n",
            "  Stored in directory: /root/.cache/pip/wheels/29/7a/e7/1175d9ff10607b8f02aa37c32392cb28cdda0aea8fcc2b514b\n",
            "  Building wheel for pathspec (setup.py) ... \u001b[?25l\u001b[?25hdone\n",
            "  Created wheel for pathspec: filename=pathspec-0.5.5-py3-none-any.whl size=24218 sha256=28449e24f646778bd51cb26e6e40da9a89c99cda3e5df580637a6754f3051a11\n",
            "  Stored in directory: /root/.cache/pip/wheels/28/d4/11/01ccd690e97b06874998aa554a8b2610c361900d2a7e038300\n",
            "Successfully built metrics pathspec\n",
            "Installing collected packages: Pygments, pathspec, pathlib2, metrics\n",
            "  Attempting uninstall: Pygments\n",
            "    Found existing installation: Pygments 2.16.1\n",
            "    Uninstalling Pygments-2.16.1:\n",
            "      Successfully uninstalled Pygments-2.16.1\n",
            "\u001b[31mERROR: pip's dependency resolver does not currently take into account all the packages that are installed. This behaviour is the source of the following dependency conflicts.\n",
            "ipython 7.34.0 requires jedi>=0.16, which is not installed.\n",
            "nbconvert 6.5.4 requires pygments>=2.4.1, but you have pygments 2.2.0 which is incompatible.\n",
            "rich 13.7.0 requires pygments<3.0.0,>=2.13.0, but you have pygments 2.2.0 which is incompatible.\u001b[0m\u001b[31m\n",
            "\u001b[0mSuccessfully installed Pygments-2.2.0 metrics-0.3.3 pathlib2-2.3.7.post1 pathspec-0.5.5\n"
          ]
        },
        {
          "output_type": "display_data",
          "data": {
            "application/vnd.colab-display-data+json": {
              "pip_warning": {
                "packages": [
                  "pygments"
                ]
              }
            }
          },
          "metadata": {}
        }
      ]
    },
    {
      "cell_type": "code",
      "source": [
        "!pip install evaluate"
      ],
      "metadata": {
        "colab": {
          "base_uri": "https://localhost:8080/"
        },
        "id": "VY2hViuFo9b4",
        "outputId": "cbed8279-de70-4e3b-f511-98a03414c3fb"
      },
      "execution_count": null,
      "outputs": [
        {
          "output_type": "stream",
          "name": "stdout",
          "text": [
            "Collecting evaluate\n",
            "  Downloading evaluate-0.4.1-py3-none-any.whl (84 kB)\n",
            "\u001b[2K     \u001b[90m━━━━━━━━━━━━━━━━━━━━━━━━━━━━━━━━━━━━━━━━\u001b[0m \u001b[32m84.1/84.1 kB\u001b[0m \u001b[31m3.2 MB/s\u001b[0m eta \u001b[36m0:00:00\u001b[0m\n",
            "\u001b[?25hCollecting datasets>=2.0.0 (from evaluate)\n",
            "  Downloading datasets-2.18.0-py3-none-any.whl (510 kB)\n",
            "\u001b[2K     \u001b[90m━━━━━━━━━━━━━━━━━━━━━━━━━━━━━━━━━━━━━━━━\u001b[0m \u001b[32m510.5/510.5 kB\u001b[0m \u001b[31m10.7 MB/s\u001b[0m eta \u001b[36m0:00:00\u001b[0m\n",
            "\u001b[?25hRequirement already satisfied: numpy>=1.17 in /usr/local/lib/python3.10/dist-packages (from evaluate) (1.23.5)\n",
            "Collecting dill (from evaluate)\n",
            "  Downloading dill-0.3.8-py3-none-any.whl (116 kB)\n",
            "\u001b[2K     \u001b[90m━━━━━━━━━━━━━━━━━━━━━━━━━━━━━━━━━━━━━━━━\u001b[0m \u001b[32m116.3/116.3 kB\u001b[0m \u001b[31m10.2 MB/s\u001b[0m eta \u001b[36m0:00:00\u001b[0m\n",
            "\u001b[?25hRequirement already satisfied: pandas in /usr/local/lib/python3.10/dist-packages (from evaluate) (1.5.3)\n",
            "Requirement already satisfied: requests>=2.19.0 in /usr/local/lib/python3.10/dist-packages (from evaluate) (2.31.0)\n",
            "Requirement already satisfied: tqdm>=4.62.1 in /usr/local/lib/python3.10/dist-packages (from evaluate) (4.66.1)\n",
            "Requirement already satisfied: xxhash in /usr/local/lib/python3.10/dist-packages (from evaluate) (3.4.1)\n",
            "Collecting multiprocess (from evaluate)\n",
            "  Downloading multiprocess-0.70.16-py310-none-any.whl (134 kB)\n",
            "\u001b[2K     \u001b[90m━━━━━━━━━━━━━━━━━━━━━━━━━━━━━━━━━━━━━━━━\u001b[0m \u001b[32m134.8/134.8 kB\u001b[0m \u001b[31m12.2 MB/s\u001b[0m eta \u001b[36m0:00:00\u001b[0m\n",
            "\u001b[?25hRequirement already satisfied: fsspec[http]>=2021.05.0 in /usr/local/lib/python3.10/dist-packages (from evaluate) (2023.6.0)\n",
            "Requirement already satisfied: huggingface-hub>=0.7.0 in /usr/local/lib/python3.10/dist-packages (from evaluate) (0.20.3)\n",
            "Requirement already satisfied: packaging in /usr/local/lib/python3.10/dist-packages (from evaluate) (23.2)\n",
            "Collecting responses<0.19 (from evaluate)\n",
            "  Downloading responses-0.18.0-py3-none-any.whl (38 kB)\n",
            "Requirement already satisfied: filelock in /usr/local/lib/python3.10/dist-packages (from datasets>=2.0.0->evaluate) (3.13.1)\n",
            "Collecting pyarrow>=12.0.0 (from datasets>=2.0.0->evaluate)\n",
            "  Downloading pyarrow-15.0.2-cp310-cp310-manylinux_2_28_x86_64.whl (38.3 MB)\n",
            "\u001b[2K     \u001b[90m━━━━━━━━━━━━━━━━━━━━━━━━━━━━━━━━━━━━━━━━\u001b[0m \u001b[32m38.3/38.3 MB\u001b[0m \u001b[31m34.3 MB/s\u001b[0m eta \u001b[36m0:00:00\u001b[0m\n",
            "\u001b[?25hRequirement already satisfied: pyarrow-hotfix in /usr/local/lib/python3.10/dist-packages (from datasets>=2.0.0->evaluate) (0.6)\n",
            "Requirement already satisfied: aiohttp in /usr/local/lib/python3.10/dist-packages (from datasets>=2.0.0->evaluate) (3.9.3)\n",
            "Requirement already satisfied: pyyaml>=5.1 in /usr/local/lib/python3.10/dist-packages (from datasets>=2.0.0->evaluate) (6.0.1)\n",
            "Requirement already satisfied: typing-extensions>=3.7.4.3 in /usr/local/lib/python3.10/dist-packages (from huggingface-hub>=0.7.0->evaluate) (4.9.0)\n",
            "Requirement already satisfied: charset-normalizer<4,>=2 in /usr/local/lib/python3.10/dist-packages (from requests>=2.19.0->evaluate) (3.3.2)\n",
            "Requirement already satisfied: idna<4,>=2.5 in /usr/local/lib/python3.10/dist-packages (from requests>=2.19.0->evaluate) (3.6)\n",
            "Requirement already satisfied: urllib3<3,>=1.21.1 in /usr/local/lib/python3.10/dist-packages (from requests>=2.19.0->evaluate) (2.0.7)\n",
            "Requirement already satisfied: certifi>=2017.4.17 in /usr/local/lib/python3.10/dist-packages (from requests>=2.19.0->evaluate) (2024.2.2)\n",
            "Requirement already satisfied: python-dateutil>=2.8.1 in /usr/local/lib/python3.10/dist-packages (from pandas->evaluate) (2.8.2)\n",
            "Requirement already satisfied: pytz>=2020.1 in /usr/local/lib/python3.10/dist-packages (from pandas->evaluate) (2023.4)\n",
            "Requirement already satisfied: aiosignal>=1.1.2 in /usr/local/lib/python3.10/dist-packages (from aiohttp->datasets>=2.0.0->evaluate) (1.3.1)\n",
            "Requirement already satisfied: attrs>=17.3.0 in /usr/local/lib/python3.10/dist-packages (from aiohttp->datasets>=2.0.0->evaluate) (23.2.0)\n",
            "Requirement already satisfied: frozenlist>=1.1.1 in /usr/local/lib/python3.10/dist-packages (from aiohttp->datasets>=2.0.0->evaluate) (1.4.1)\n",
            "Requirement already satisfied: multidict<7.0,>=4.5 in /usr/local/lib/python3.10/dist-packages (from aiohttp->datasets>=2.0.0->evaluate) (6.0.5)\n",
            "Requirement already satisfied: yarl<2.0,>=1.0 in /usr/local/lib/python3.10/dist-packages (from aiohttp->datasets>=2.0.0->evaluate) (1.9.4)\n",
            "Requirement already satisfied: async-timeout<5.0,>=4.0 in /usr/local/lib/python3.10/dist-packages (from aiohttp->datasets>=2.0.0->evaluate) (4.0.3)\n",
            "Requirement already satisfied: six>=1.5 in /usr/local/lib/python3.10/dist-packages (from python-dateutil>=2.8.1->pandas->evaluate) (1.16.0)\n",
            "Installing collected packages: pyarrow, dill, responses, multiprocess, datasets, evaluate\n",
            "  Attempting uninstall: pyarrow\n",
            "    Found existing installation: pyarrow 10.0.1\n",
            "    Uninstalling pyarrow-10.0.1:\n",
            "      Successfully uninstalled pyarrow-10.0.1\n",
            "\u001b[31mERROR: pip's dependency resolver does not currently take into account all the packages that are installed. This behaviour is the source of the following dependency conflicts.\n",
            "ibis-framework 7.1.0 requires pyarrow<15,>=2, but you have pyarrow 15.0.2 which is incompatible.\u001b[0m\u001b[31m\n",
            "\u001b[0mSuccessfully installed datasets-2.18.0 dill-0.3.8 evaluate-0.4.1 multiprocess-0.70.16 pyarrow-15.0.2 responses-0.18.0\n"
          ]
        }
      ]
    },
    {
      "cell_type": "code",
      "source": [
        "import pygments\n",
        "pygments.__version__"
      ],
      "metadata": {
        "colab": {
          "base_uri": "https://localhost:8080/"
        },
        "id": "zg3RCOHPWSJS",
        "outputId": "b2dbd4db-8586-423a-c6f1-07be239c7df0"
      },
      "execution_count": null,
      "outputs": [
        {
          "output_type": "execute_result",
          "data": {
            "text/plain": [
              "'2.16.1'"
            ],
            "application/vnd.google.colaboratory.intrinsic+json": {
              "type": "string"
            }
          },
          "metadata": {},
          "execution_count": 5
        }
      ]
    },
    {
      "cell_type": "code",
      "source": [
        "%cd '/content/oasis'"
      ],
      "metadata": {
        "colab": {
          "base_uri": "https://localhost:8080/"
        },
        "id": "5U89eemOb5MD",
        "outputId": "d2eda3a0-c8ba-4d59-ebc5-6cef0bba66c5"
      },
      "execution_count": null,
      "outputs": [
        {
          "output_type": "stream",
          "name": "stdout",
          "text": [
            "[Errno 2] No such file or directory: '/content/oasis'\n",
            "/content\n"
          ]
        }
      ]
    },
    {
      "cell_type": "code",
      "metadata": {
        "id": "OzjdLqZ_8MUm",
        "colab": {
          "base_uri": "https://localhost:8080/"
        },
        "outputId": "9894fe3f-9440-4690-972c-084ca1319918"
      },
      "source": [
        "!pip install transformers\n",
        "\n",
        "\n",
        "%tensorflow_version 2.x\n",
        "#!pip show tensorflow"
      ],
      "execution_count": null,
      "outputs": [
        {
          "output_type": "stream",
          "name": "stdout",
          "text": [
            "Requirement already satisfied: transformers in /usr/local/lib/python3.10/dist-packages (4.35.2)\n",
            "Requirement already satisfied: filelock in /usr/local/lib/python3.10/dist-packages (from transformers) (3.13.1)\n",
            "Requirement already satisfied: huggingface-hub<1.0,>=0.16.4 in /usr/local/lib/python3.10/dist-packages (from transformers) (0.20.3)\n",
            "Requirement already satisfied: numpy>=1.17 in /usr/local/lib/python3.10/dist-packages (from transformers) (1.23.5)\n",
            "Requirement already satisfied: packaging>=20.0 in /usr/local/lib/python3.10/dist-packages (from transformers) (23.2)\n",
            "Requirement already satisfied: pyyaml>=5.1 in /usr/local/lib/python3.10/dist-packages (from transformers) (6.0.1)\n",
            "Requirement already satisfied: regex!=2019.12.17 in /usr/local/lib/python3.10/dist-packages (from transformers) (2023.12.25)\n",
            "Requirement already satisfied: requests in /usr/local/lib/python3.10/dist-packages (from transformers) (2.31.0)\n",
            "Requirement already satisfied: tokenizers<0.19,>=0.14 in /usr/local/lib/python3.10/dist-packages (from transformers) (0.15.1)\n",
            "Requirement already satisfied: safetensors>=0.3.1 in /usr/local/lib/python3.10/dist-packages (from transformers) (0.4.2)\n",
            "Requirement already satisfied: tqdm>=4.27 in /usr/local/lib/python3.10/dist-packages (from transformers) (4.66.1)\n",
            "Requirement already satisfied: fsspec>=2023.5.0 in /usr/local/lib/python3.10/dist-packages (from huggingface-hub<1.0,>=0.16.4->transformers) (2023.6.0)\n",
            "Requirement already satisfied: typing-extensions>=3.7.4.3 in /usr/local/lib/python3.10/dist-packages (from huggingface-hub<1.0,>=0.16.4->transformers) (4.9.0)\n",
            "Requirement already satisfied: charset-normalizer<4,>=2 in /usr/local/lib/python3.10/dist-packages (from requests->transformers) (3.3.2)\n",
            "Requirement already satisfied: idna<4,>=2.5 in /usr/local/lib/python3.10/dist-packages (from requests->transformers) (3.6)\n",
            "Requirement already satisfied: urllib3<3,>=1.21.1 in /usr/local/lib/python3.10/dist-packages (from requests->transformers) (2.0.7)\n",
            "Requirement already satisfied: certifi>=2017.4.17 in /usr/local/lib/python3.10/dist-packages (from requests->transformers) (2024.2.2)\n",
            "Colab only includes TensorFlow 2.x; %tensorflow_version has no effect.\n"
          ]
        }
      ]
    },
    {
      "cell_type": "markdown",
      "source": [
        "# lib"
      ],
      "metadata": {
        "id": "TR00JgWOXNL0"
      }
    },
    {
      "cell_type": "code",
      "source": [
        "import os\n",
        "import datetime\n",
        "import gc\n",
        "import time\n",
        "import string\n",
        "import pickle\n",
        "import numpy as np\n",
        "import pandas as pd\n",
        "from urllib.request import urlopen\n",
        "from transformers import TFAutoModel, AutoTokenizer\n",
        "from metrics import *\n",
        "from torch.utils.data import Dataset\n",
        "import torch\n",
        "from torch.utils.data import DataLoader\n",
        "from transformers import AutoModelForSequenceClassification\n",
        "from transformers import get_scheduler\n",
        "from tqdm.auto import tqdm\n",
        "import evaluate\n",
        "import datasets\n",
        "from transformers import AutoTokenizer\n",
        "from torchsummaryX import summary\n",
        "\n",
        "import matplotlib.pyplot as plt\n",
        "import random\n",
        "import torch.nn as nn\n",
        "import torch.optim as optim\n",
        "from sklearn.metrics import f1_score\n",
        "\n",
        "import os\n",
        "import numpy as np\n",
        "import random\n",
        "import torch\n",
        "import torch.nn as nn\n",
        "from torch import Tensor\n",
        "from typing import Tuple, Optional\n",
        "from transformers import BertModel\n",
        "from transformers import BertTokenizer"
      ],
      "metadata": {
        "id": "rJaCSZQViBq2"
      },
      "execution_count": 1,
      "outputs": []
    },
    {
      "cell_type": "markdown",
      "source": [
        "# config"
      ],
      "metadata": {
        "id": "_0JSwhxSm3NR"
      }
    },
    {
      "cell_type": "code",
      "source": [
        "experiment_params = {'task_name': 'oasis',\n",
        "                    'experiment_name': 'bert_base_1',\n",
        "                    'model_name': 'bert_base',\n",
        "                    'training': True,\n",
        "                    'testing': True,\n",
        "                    'save_model': True,\n",
        "                    'load_model': True,\n",
        "                    'init_ckpt_file': 'bert-base-uncased',\n",
        "                    'batch_size': 16,\n",
        "                    'num_epochs': 50,\n",
        "                    'evaluate_steps': 50,\n",
        "                    'early_stopping': True,\n",
        "                    'patience': 5,\n",
        "                    'vocab_size': 1700,\n",
        "                    'max_seq_length': 115,\n",
        "                    'to_tokens': False,\n",
        "                    'to_lower': True,\n",
        "                    'use_punct': True,\n",
        "                    'embedding_dim': 768, # bert_base/gpt2=768, bert_large=1024\n",
        "                    'embedding_type': 'bert_base',\n",
        "                    'embedding_source': 'bert_base',\n",
        "                    'tokeniser_name': 'bert-base-uncased'}\n",
        "\n",
        "model_params = {\"learning_rate\": 0.00002,\n",
        "                \"optimiser\": \"adam\",\n",
        "                \"use_tpu\": False,\n",
        "                \"num_fine_tune_layers\": 12, # bert_base=12, bert_large=24, gpt2=None\n",
        "                \"output_mode\": \"sequence\",\n",
        "                \"dropout_rate\": 0.3,\n",
        "                \"dense_units\": 128}"
      ],
      "metadata": {
        "id": "AJnyGEwvm4wh"
      },
      "execution_count": 21,
      "outputs": []
    },
    {
      "cell_type": "markdown",
      "metadata": {
        "id": "KlyVKwlc8gdK"
      },
      "source": [
        "# Set experiment and model parameters"
      ]
    },
    {
      "cell_type": "code",
      "metadata": {
        "id": "LK6HkLtw8gnd",
        "colab": {
          "base_uri": "https://localhost:8080/"
        },
        "outputId": "96e1d42a-7a5e-457a-c406-063ff865b45a"
      },
      "source": [
        "# Task and experiment name\n",
        "task_name = experiment_params['task_name']\n",
        "experiment_name = experiment_params['experiment_name']\n",
        "model_name = experiment_params['model_name']\n",
        "training = experiment_params['training']\n",
        "testing = experiment_params['testing']\n",
        "save_model = experiment_params['save_model']\n",
        "load_model = experiment_params['load_model']\n",
        "init_ckpt_file = experiment_params['init_ckpt_file']\n",
        "\n",
        "\n",
        "# Data set and output paths\n",
        "dataset_dir = os.path.join(task_name, 'dataset')\n",
        "output_dir = os.path.join(task_name, experiment_name)\n",
        "checkpoint_dir = os.path.join(output_dir, 'checkpoints')\n",
        "\n",
        "# Create appropriate directories if they don't exist\n",
        "for dir in [task_name, dataset_dir, output_dir, checkpoint_dir]:\n",
        "    if not os.path.exists(dir):\n",
        "        os.mkdir(dir)\n",
        "\n",
        "print(\"------------------------------------\")\n",
        "print(\"Running experiment...\")\n",
        "print(task_name + \": \" + experiment_name)\n",
        "print(\"Training: \" + str(training))\n",
        "print(\"Testing: \" + str(testing))\n",
        "\n",
        "# Training parameters\n",
        "batch_size = experiment_params['batch_size']\n",
        "num_epochs = experiment_params['num_epochs']\n",
        "evaluate_steps = experiment_params['evaluate_steps']\n",
        "early_stopping = experiment_params['early_stopping']\n",
        "patience = experiment_params['patience']\n",
        "optimiser_type = model_params['optimiser']\n",
        "learning_rate = model_params['learning_rate']\n",
        "\n",
        "print(\"------------------------------------\")\n",
        "print(\"Using parameters...\")\n",
        "print(\"Batch size: \" + str(batch_size))\n",
        "print(\"Epochs: \" + str(num_epochs))\n",
        "print(\"Evaluate steps: \" + str(evaluate_steps))\n",
        "print(\"Early Stopping: \" + str(early_stopping))\n",
        "print(\"Patience: \" + str(patience))\n",
        "print(\"Optimiser: \" + optimiser_type)\n",
        "print(\"Learning rate: \" + str(learning_rate))"
      ],
      "execution_count": 22,
      "outputs": [
        {
          "output_type": "stream",
          "name": "stdout",
          "text": [
            "------------------------------------\n",
            "Running experiment...\n",
            "oasis: bert_base_1\n",
            "Training: True\n",
            "Testing: True\n",
            "------------------------------------\n",
            "Using parameters...\n",
            "Batch size: 16\n",
            "Epochs: 50\n",
            "Evaluate steps: 50\n",
            "Early Stopping: True\n",
            "Patience: 5\n",
            "Optimiser: adam\n",
            "Learning rate: 2e-05\n"
          ]
        }
      ]
    },
    {
      "cell_type": "markdown",
      "metadata": {
        "id": "MJq_OC9_9Q-b"
      },
      "source": [
        "# Dataset"
      ]
    },
    {
      "cell_type": "code",
      "source": [
        "# Data set parameters\n",
        "vocab_size = experiment_params['vocab_size']\n",
        "to_lower = experiment_params['to_lower']\n",
        "use_punct = experiment_params['use_punct']\n",
        "\n",
        "\n",
        "# Get the data from Github repo\n",
        "if task_name == 'swda':\n",
        "    base_url = 'https://raw.github.com/NathanDuran/Switchboard-Corpus/master/swda_data/'\n",
        "elif task_name == 'maptask':\n",
        "    base_url = 'https://raw.github.com/NathanDuran/Maptask-Corpus/master/maptask_data/'\n",
        "elif task_name == 'oasis':\n",
        "    base_url = 'https://raw.githubusercontent.com/NathanDuran/BT-Oasis-Corpus/master/oasis_data/'\n",
        "\n",
        "metadata = pickle.load(urlopen(base_url + 'metadata/metadata.pkl'))\n",
        "all_labels = metadata['labels']\n",
        "vocab = metadata['vocabulary'][:vocab_size]\n",
        "\n",
        "def get_dataset(url, set_name, all_labels):\n",
        "  train_split = urlopen(url + 'metadata/'+set_name+'_split.txt')\n",
        "  texts, labels = [], []\n",
        "  for i in train_split:\n",
        "    dialog = i.decode('utf-8').rstrip('\\r\\n')+'.txt'\n",
        "    input_text, output_labels = [], []\n",
        "    for line in (urlopen(url + set_name+ '/' + dialog)):\n",
        "      sentence = line.decode('utf-8').rstrip('\\r\\n').split(\"|\")[1]\n",
        "      label = line.decode('utf-8').rstrip('\\r\\n').split(\"|\")[2]\n",
        "\n",
        "      input_text.append(sentence)\n",
        "      output_labels.append(all_labels.index(label))\n",
        "    texts.append(input_text)\n",
        "    labels.append(output_labels)\n",
        "  return texts, labels"
      ],
      "metadata": {
        "id": "_AmBByJkA5Xu"
      },
      "execution_count": 23,
      "outputs": []
    },
    {
      "cell_type": "code",
      "source": [
        "train_texts, train_labels = get_dataset(base_url, 'train', all_labels)\n",
        "val_texts, val_labels = get_dataset(base_url, 'val', all_labels)\n",
        "test_texts, test_labels = get_dataset(base_url, 'test', all_labels)"
      ],
      "metadata": {
        "id": "JLarztQCnMz2"
      },
      "execution_count": 24,
      "outputs": []
    },
    {
      "cell_type": "code",
      "source": [
        "train_texts[0]"
      ],
      "metadata": {
        "colab": {
          "base_uri": "https://localhost:8080/"
        },
        "id": "bhleKml8mf9Y",
        "outputId": "815ea6a4-1e25-47b7-b980-0396ad740342"
      },
      "execution_count": 68,
      "outputs": [
        {
          "output_type": "execute_result",
          "data": {
            "text/plain": [
              "['hello',\n",
              " 'yes',\n",
              " 'could i have a number for please',\n",
              " 'are you',\n",
              " 'oh you need directory enquiries on would you like me to connect you thank you',\n",
              " 'would you like me to connect you',\n",
              " 'yes please',\n",
              " 'thank you',\n",
              " 'sorry about that']"
            ]
          },
          "metadata": {},
          "execution_count": 68
        }
      ]
    },
    {
      "cell_type": "code",
      "source": [
        "len(train_texts)"
      ],
      "metadata": {
        "colab": {
          "base_uri": "https://localhost:8080/"
        },
        "id": "HRUUW1wHl4-S",
        "outputId": "23bf7a03-a813-449c-d407-a3c6e2758b29"
      },
      "execution_count": 60,
      "outputs": [
        {
          "output_type": "execute_result",
          "data": {
            "text/plain": [
              "508"
            ]
          },
          "metadata": {},
          "execution_count": 60
        }
      ]
    },
    {
      "cell_type": "markdown",
      "source": [
        "# tokenizer"
      ],
      "metadata": {
        "id": "e4iGK7JRocJT"
      }
    },
    {
      "cell_type": "code",
      "source": [
        "max_length = 30"
      ],
      "metadata": {
        "id": "AP-mQCnboeB3"
      },
      "execution_count": 25,
      "outputs": []
    },
    {
      "cell_type": "code",
      "source": [
        "tokenizer = BertTokenizer.from_pretrained('bert-base-cased', do_lower_case=False, model_max_length=max_length)"
      ],
      "metadata": {
        "id": "0_jCJs7iofNw"
      },
      "execution_count": 26,
      "outputs": []
    },
    {
      "cell_type": "code",
      "source": [
        "def token(texts, labels):\n",
        "  input_ids, attention_masks = [], []\n",
        "  for text in tqdm(texts):\n",
        "      encoded_input = tokenizer(text, padding=True, truncation=True, return_tensors='pt')\n",
        "      input_ids.append(encoded_input['input_ids'])\n",
        "      attention_masks.append(encoded_input['attention_mask'])\n",
        "  for i in range(len(input_ids)):\n",
        "      if input_ids[i].size(1) < max_length:\n",
        "          padding_shape = (input_ids[i].size(0), max_length - input_ids[i].size(1))\n",
        "          input_ids[i] = torch.cat((input_ids[i], torch.zeros(padding_shape)), axis=1)\n",
        "          attention_masks[i] = torch.cat((attention_masks[i], torch.zeros(padding_shape)), axis=1)\n",
        "  dialogue_lengths = [len(dialogue) for dialogue in input_ids]\n",
        "  dialogue_lengths = torch.LongTensor(dialogue_lengths)\n",
        "\n",
        "  input_ids = torch.nn.utils.rnn.pad_sequence(input_ids, batch_first=True)\n",
        "  attention_masks = torch.nn.utils.rnn.pad_sequence(attention_masks, batch_first=True)\n",
        "\n",
        "  labels = [torch.LongTensor(label) for label in labels]\n",
        "  y = torch.nn.utils.rnn.pad_sequence(labels, batch_first=True)\n",
        "  return dialogue_lengths, input_ids.type(torch.LongTensor), attention_masks.type(torch.LongTensor), y"
      ],
      "metadata": {
        "id": "_rvRFA_ZHWX2"
      },
      "execution_count": 27,
      "outputs": []
    },
    {
      "cell_type": "code",
      "source": [
        "dialogue_lengths_tr, input_ids_tr, attention_masks_tr, y_tr= token(train_texts, train_labels)\n",
        "dialogue_lengths_v, input_ids_v, attention_masks_v, y_v= token(val_texts, val_labels )\n",
        "dialogue_lengths_t, input_ids_t, attention_masks_t, y_t= token(test_texts, test_labels)"
      ],
      "metadata": {
        "colab": {
          "base_uri": "https://localhost:8080/",
          "height": 113,
          "referenced_widgets": [
            "0011001e51494b94b25be986c3f145de",
            "2e3585725a89438d9eb40368a43c7f4d",
            "04da7fb599984ca09613cc1f889b47b1",
            "c2818e83bff34a5792f2dde35446e42b",
            "fa199985e47341ad85a99347326da4c1",
            "a4975bbc711644f3a074c5868fb292af",
            "29b2a5a897444e15b74cad0696377e57",
            "4f31312747f040b8b8bf653cef0a7e36",
            "01db28938b4840a4b0abae56be1ca5d6",
            "65764d36b08f4b3c96f8ec883971f349",
            "482b06e1c66f423998ca2fab7eb5e976",
            "f5006183d41041c5a76f48823315c617",
            "083400294c3d48f79b3717912b488611",
            "328054f1f9ae4ae4aa57ce9e9d6bed7f",
            "83d1efc7bec44af7ae0eec6109f4825f",
            "99529a17a03c437c86bf4fd589810133",
            "cbd90b31429a41a79b6a788c253cbff1",
            "58d4ec875ebb42059cb160741a45effd",
            "449cb65d39ca4bc0883390d71be8c07c",
            "d8b13f8f430f44808db02ee13a83e61a",
            "756840c2b1e849bdafe5aa70ada26ccb",
            "8bd67e9229d54d6abf1d68e9f9c0ac67",
            "503e452c17d84edcac36b1b372bc5169",
            "c2c9301be4684aef8db6e5e9c31e8cdd",
            "9a19df7929ca4f5b91ec29f84d897394",
            "7b105c539b1d44a5a660221d1fee791a",
            "35bb301b592249be9e3064b66159a1ee",
            "a900b880396945c4b8473c35f4a3561d",
            "1d4e4e5975304b1cb971935995d21457",
            "e04a2c34d9e44279a9a2a35da2ff3a34",
            "2643282899464ed78c4a12ba89c46d6a",
            "61282af9a8094b218f69d4dc786803d5",
            "4b6f833707ae47dba7f14341fc2fd68d"
          ]
        },
        "id": "PAeJ2geS8eVX",
        "outputId": "49564d29-17d2-4812-bea1-7427599ff31b"
      },
      "execution_count": 28,
      "outputs": [
        {
          "output_type": "display_data",
          "data": {
            "text/plain": [
              "  0%|          | 0/508 [00:00<?, ?it/s]"
            ],
            "application/vnd.jupyter.widget-view+json": {
              "version_major": 2,
              "version_minor": 0,
              "model_id": "0011001e51494b94b25be986c3f145de"
            }
          },
          "metadata": {}
        },
        {
          "output_type": "display_data",
          "data": {
            "text/plain": [
              "  0%|          | 0/64 [00:00<?, ?it/s]"
            ],
            "application/vnd.jupyter.widget-view+json": {
              "version_major": 2,
              "version_minor": 0,
              "model_id": "f5006183d41041c5a76f48823315c617"
            }
          },
          "metadata": {}
        },
        {
          "output_type": "display_data",
          "data": {
            "text/plain": [
              "  0%|          | 0/64 [00:00<?, ?it/s]"
            ],
            "application/vnd.jupyter.widget-view+json": {
              "version_major": 2,
              "version_minor": 0,
              "model_id": "503e452c17d84edcac36b1b372bc5169"
            }
          },
          "metadata": {}
        }
      ]
    },
    {
      "cell_type": "code",
      "source": [
        "dialogue_lengths_tr.shape, input_ids_tr.shape, attention_masks_tr.shape, y_tr.shape"
      ],
      "metadata": {
        "colab": {
          "base_uri": "https://localhost:8080/"
        },
        "id": "pHCHfzbqvDeu",
        "outputId": "2e87ccd8-d35f-432b-a8d4-744e17da5206"
      },
      "execution_count": 29,
      "outputs": [
        {
          "output_type": "execute_result",
          "data": {
            "text/plain": [
              "(torch.Size([508]),\n",
              " torch.Size([508, 153, 30]),\n",
              " torch.Size([508, 153, 30]),\n",
              " torch.Size([508, 153]))"
            ]
          },
          "metadata": {},
          "execution_count": 29
        }
      ]
    },
    {
      "cell_type": "markdown",
      "source": [
        "# data loader"
      ],
      "metadata": {
        "id": "ZxG1RrlrIpLi"
      }
    },
    {
      "cell_type": "code",
      "source": [
        "class BertDataset(Dataset):\n",
        "    def __init__(self, input_ids, attention_masks, input_lengths, y):\n",
        "        super().__init__()\n",
        "        self.input_ids = input_ids\n",
        "        self.attention_masks = attention_masks\n",
        "        self.input_lengths = input_lengths\n",
        "        self.y = y\n",
        "\n",
        "    def __getitem__(self, idx):\n",
        "        return {\n",
        "            'input_ids': self.input_ids[idx],\n",
        "            'attention_masks': self.attention_masks[idx],\n",
        "            'input_lengths': self.input_lengths[idx],\n",
        "            'labels': self.y[idx],\n",
        "        }\n",
        "\n",
        "    def __len__(self):\n",
        "        return len(self.input_ids)\n"
      ],
      "metadata": {
        "id": "T4XzrTlBqikV"
      },
      "execution_count": 30,
      "outputs": []
    },
    {
      "cell_type": "code",
      "source": [
        "train_set = BertDataset(input_ids_tr, attention_masks_tr, dialogue_lengths_tr,  y_tr)\n",
        "valid_set = BertDataset(input_ids_v, attention_masks_v, dialogue_lengths_v, y_v)\n",
        "test_set = BertDataset(input_ids_t, attention_masks_t, dialogue_lengths_t, y_t)"
      ],
      "metadata": {
        "id": "FQhhTO7Fmjeu"
      },
      "execution_count": 31,
      "outputs": []
    },
    {
      "cell_type": "code",
      "source": [
        "train_set[0]"
      ],
      "metadata": {
        "colab": {
          "base_uri": "https://localhost:8080/"
        },
        "id": "egUNjN4oit-a",
        "outputId": "cf0ad57f-9ccf-4f76-cbce-03d43cc0334c"
      },
      "execution_count": 32,
      "outputs": [
        {
          "output_type": "execute_result",
          "data": {
            "text/plain": [
              "{'input_ids': tensor([[  101, 19082,   102,  ...,     0,     0,     0],\n",
              "         [  101,  4208,   102,  ...,     0,     0,     0],\n",
              "         [  101,  1180,   178,  ...,     0,     0,     0],\n",
              "         ...,\n",
              "         [    0,     0,     0,  ...,     0,     0,     0],\n",
              "         [    0,     0,     0,  ...,     0,     0,     0],\n",
              "         [    0,     0,     0,  ...,     0,     0,     0]]),\n",
              " 'attention_masks': tensor([[1, 1, 1,  ..., 0, 0, 0],\n",
              "         [1, 1, 1,  ..., 0, 0, 0],\n",
              "         [1, 1, 1,  ..., 0, 0, 0],\n",
              "         ...,\n",
              "         [0, 0, 0,  ..., 0, 0, 0],\n",
              "         [0, 0, 0,  ..., 0, 0, 0],\n",
              "         [0, 0, 0,  ..., 0, 0, 0]]),\n",
              " 'input_lengths': tensor(9),\n",
              " 'labels': tensor([ 7,  5,  2,  2,  0, 17,  8,  6, 14,  0,  0,  0,  0,  0,  0,  0,  0,  0,\n",
              "          0,  0,  0,  0,  0,  0,  0,  0,  0,  0,  0,  0,  0,  0,  0,  0,  0,  0,\n",
              "          0,  0,  0,  0,  0,  0,  0,  0,  0,  0,  0,  0,  0,  0,  0,  0,  0,  0,\n",
              "          0,  0,  0,  0,  0,  0,  0,  0,  0,  0,  0,  0,  0,  0,  0,  0,  0,  0,\n",
              "          0,  0,  0,  0,  0,  0,  0,  0,  0,  0,  0,  0,  0,  0,  0,  0,  0,  0,\n",
              "          0,  0,  0,  0,  0,  0,  0,  0,  0,  0,  0,  0,  0,  0,  0,  0,  0,  0,\n",
              "          0,  0,  0,  0,  0,  0,  0,  0,  0,  0,  0,  0,  0,  0,  0,  0,  0,  0,\n",
              "          0,  0,  0,  0,  0,  0,  0,  0,  0,  0,  0,  0,  0,  0,  0,  0,  0,  0,\n",
              "          0,  0,  0,  0,  0,  0,  0,  0,  0])}"
            ]
          },
          "metadata": {},
          "execution_count": 32
        }
      ]
    },
    {
      "cell_type": "code",
      "source": [
        "batch_size = 16\n",
        "\n",
        "train_loader = DataLoader(train_set, batch_size=batch_size, shuffle=True)\n",
        "valid_loader = DataLoader(valid_set, batch_size=batch_size, shuffle=False)\n",
        "test_loader = DataLoader(test_set, batch_size=batch_size, shuffle=False)"
      ],
      "metadata": {
        "id": "WyiPLqIqqr--"
      },
      "execution_count": 33,
      "outputs": []
    },
    {
      "cell_type": "markdown",
      "metadata": {
        "id": "i1lbA29GEqC6"
      },
      "source": [
        "# Build the model"
      ]
    },
    {
      "cell_type": "code",
      "source": [
        "class DialogueRNN(nn.Module):\n",
        "    \"\"\"\n",
        "    Inputs:\n",
        "        - utterance_embs (batch_size, dialogue_len, input_size): utterance embeddings\n",
        "    Returns:\n",
        "        - preds (batch_size, dialogue_len, output_size): predictions, logits for each utterance\n",
        "    \"\"\"\n",
        "    def __init__(self, input_size=300, output_size=10, rnn_hidden_size=64, use_layer_norm=True):\n",
        "        super().__init__()\n",
        "\n",
        "        self.rnn = nn.GRU(input_size, rnn_hidden_size, batch_first=True, bidirectional=False)\n",
        "\n",
        "        self.use_layer_norm = use_layer_norm\n",
        "        self.norm = nn.LayerNorm([rnn_hidden_size])\n",
        "\n",
        "        self.head = nn.Sequential(\n",
        "            nn.Linear(rnn_hidden_size, rnn_hidden_size),\n",
        "            nn.ReLU(),\n",
        "            nn.Linear(rnn_hidden_size, output_size),\n",
        "        )\n",
        "\n",
        "    def forward(self, utterance_embs):\n",
        "        rnn_output, _ = self.rnn(utterance_embs)\n",
        "\n",
        "        if self.use_layer_norm:\n",
        "            rnn_output = self.norm(rnn_output)\n",
        "\n",
        "        preds = self.head(rnn_output)\n",
        "        return preds\n"
      ],
      "metadata": {
        "id": "W8kJMqqvsPmA"
      },
      "execution_count": 10,
      "outputs": []
    },
    {
      "cell_type": "code",
      "source": [
        "class BertEmbedder(nn.Module):\n",
        "    \"\"\"\n",
        "    Inputs:\n",
        "        - input_ids (batch_size, dialogue_len, max_utterance_len): input token ids\n",
        "        - attention_masks (batch_size, dialogue_len, max_utterance_len): Bert attention masks\n",
        "    Returns:\n",
        "        - outputs (batch_size, dialogue_len, 768): Bert embeddings for each utterance\n",
        "    \"\"\"\n",
        "    def __init__(self, bert_layers_to_finetune=0, max_utterance_len=25):\n",
        "        super().__init__()\n",
        "\n",
        "        self.max_utterance_len = max_utterance_len\n",
        "        self.bert = BertModel.from_pretrained('bert-base-cased')\n",
        "\n",
        "        for param in self.bert.parameters():\n",
        "            param.requires_grad = False\n",
        "\n",
        "        if bert_layers_to_finetune:\n",
        "            for param in self.bert.encoder.layer[-bert_layers_to_finetune:].parameters():\n",
        "                param.requires_grad = True\n",
        "\n",
        "    def forward(self, input_ids, attention_masks):\n",
        "        batch_size, seq_len = input_ids.size(0), input_ids.size(1)\n",
        "\n",
        "        # Get Bert utterance embeddings\n",
        "        bert_output = self.bert(\n",
        "            input_ids=input_ids.reshape(-1, self.max_utterance_len),\n",
        "            attention_mask=attention_masks.reshape(-1, self.max_utterance_len)\n",
        "        ).last_hidden_state\n",
        "        attention_masks = attention_masks.reshape(-1, self.max_utterance_len, 1)\n",
        "        bert_output = (bert_output * attention_masks).sum(dim=1) / (attention_masks.sum(dim=1) + 1e-5)\n",
        "        bert_output = bert_output.view(batch_size, seq_len, -1)\n",
        "\n",
        "        return bert_output\n",
        "\n",
        "    def freeze_bert(self):\n",
        "        for param in self.bert.parameters():\n",
        "            param.requires_grad = False\n"
      ],
      "metadata": {
        "id": "SdqRFWAbsXJf"
      },
      "execution_count": 11,
      "outputs": []
    },
    {
      "cell_type": "code",
      "source": [
        "class DialogueNetBert(nn.Module):\n",
        "    \"\"\"\n",
        "    Inputs:\n",
        "        - input_ids (batch_size, dialogue_len, max_utterance_len): input token ids\n",
        "        - attention_masks (batch_size, dialogue_len, max_utterance_len): Bert attention masks\n",
        "        - input_lengths: ignored\n",
        "        - labels: ignored\n",
        "    Returns:\n",
        "        - outputs (batch_size, dialogue_len, output_size): predictions, logits for each utterance\n",
        "    \"\"\"\n",
        "    def __init__(self, input_size=100, output_size=10, rnn_hidden_size=64, bert_layers_to_finetune=0,\n",
        "                 use_layer_norm=True, max_utterance_len=25):\n",
        "        super().__init__()\n",
        "\n",
        "        self.bert_embedder = BertEmbedder(bert_layers_to_finetune=bert_layers_to_finetune, max_utterance_len=max_utterance_len)\n",
        "\n",
        "        self.dialogue_rnn = DialogueRNN(input_size=768, output_size=output_size, rnn_hidden_size=rnn_hidden_size,\n",
        "                                        use_layer_norm=use_layer_norm)\n",
        "\n",
        "    def forward(self, input_ids, attention_masks, input_lengths=None, labels=None):\n",
        "        bert_embs = self.bert_embedder(input_ids, attention_masks)\n",
        "        outputs = self.dialogue_rnn(bert_embs)\n",
        "        return outputs\n"
      ],
      "metadata": {
        "id": "4-d7VLm4r5cC"
      },
      "execution_count": 12,
      "outputs": []
    },
    {
      "cell_type": "code",
      "source": [
        "model = DialogueNetBert(\n",
        "    input_size=768,\n",
        "    output_size=42,\n",
        "    rnn_hidden_size=128,\n",
        "    use_layer_norm=True,\n",
        "    max_utterance_len=max_length,\n",
        "    bert_layers_to_finetune=2,\n",
        ")"
      ],
      "metadata": {
        "id": "DjZSrqk5olOA",
        "colab": {
          "base_uri": "https://localhost:8080/"
        },
        "outputId": "2c430a22-ddd1-4275-d57a-7d1cba359073"
      },
      "execution_count": 13,
      "outputs": [
        {
          "output_type": "stream",
          "name": "stderr",
          "text": [
            "/usr/local/lib/python3.10/dist-packages/huggingface_hub/utils/_token.py:88: UserWarning: \n",
            "The secret `HF_TOKEN` does not exist in your Colab secrets.\n",
            "To authenticate with the Hugging Face Hub, create a token in your settings tab (https://huggingface.co/settings/tokens), set it as secret in your Google Colab and restart your session.\n",
            "You will be able to reuse this secret in all of your notebooks.\n",
            "Please note that authentication is recommended but still optional to access public models or datasets.\n",
            "  warnings.warn(\n"
          ]
        }
      ]
    },
    {
      "cell_type": "code",
      "source": [
        "  optimizer = optim.Adam(model.parameters(), lr=0.001)"
      ],
      "metadata": {
        "id": "sAW9agk-riQn"
      },
      "execution_count": 14,
      "outputs": []
    },
    {
      "cell_type": "markdown",
      "source": [
        "# train"
      ],
      "metadata": {
        "id": "P-imLauptCOC"
      }
    },
    {
      "cell_type": "code",
      "source": [
        "epoch_model_path = './checkpoint_epoch.pth'#TODO set the model path( Optional, you can just store best one. Make sure to make the changes below )\n",
        "best_model_path = './checkpoint_best.pth'#TODO set best model path"
      ],
      "metadata": {
        "id": "qhBXAXZL5hdV"
      },
      "execution_count": null,
      "outputs": []
    },
    {
      "cell_type": "code",
      "source": [
        "from sklearn.metrics import f1_score, accuracy_score, precision_score, recall_score\n",
        "\n",
        "random.seed(42)\n",
        "np.random.seed(42)\n",
        "torch.manual_seed(42)\n",
        "torch.cuda.manual_seed(42)\n",
        "torch.backends.cudnn.deterministic = True\n",
        "\n",
        "device = 'cuda' if torch.cuda.is_available() else 'cpu'\n",
        "\n",
        "def masking(preds, labels, input_lengths):\n",
        "    \"\"\"Mask sequences of various lengths before applying CrossEntropy Loss.\"\"\"\n",
        "    batch_size, seq_len = preds.size(0), preds.size(1)\n",
        "    indexes = torch.arange(0, seq_len).expand(batch_size, seq_len)\n",
        "    mask = indexes < input_lengths.view(-1, 1)\n",
        "    mask = mask.to(device)\n",
        "    return preds[mask].view(-1, preds.size(2)), labels[mask].view(-1).long()\n",
        "\n",
        "\n",
        "def train_epoch(net, train_loader, optimizer, criterion):\n",
        "    net.train()\n",
        "    losses = []\n",
        "    for batch in train_loader:\n",
        "        for k, v in batch.items():\n",
        "            if k != 'input_lengths':\n",
        "                batch[k] = v.to(device)\n",
        "        optimizer.zero_grad()\n",
        "        outputs = net(**batch)\n",
        "        masked_preds, masked_labels = masking(outputs, batch['labels'], batch['input_lengths'])\n",
        "        loss = criterion(masked_preds, masked_labels)\n",
        "        loss.backward()\n",
        "        # torch.nn.utils.clip_grad_norm_(net.parameters(), 1.0)\n",
        "        optimizer.step()\n",
        "        losses.append(loss.item())\n",
        "    return losses\n",
        "\n",
        "\n",
        "def val_epoch(net, valid_loader, criterion):\n",
        "    net.eval()\n",
        "    losses = []\n",
        "    all_labels, all_preds = [], []\n",
        "    for batch in valid_loader:\n",
        "        for k, v in batch.items():\n",
        "            if k != 'input_lengths':\n",
        "                batch[k] = v.to(device)\n",
        "        with torch.no_grad():\n",
        "            outputs = net(**batch)\n",
        "        masked_preds, masked_labels = masking(outputs, batch['labels'], batch['input_lengths'])\n",
        "        loss = criterion(masked_preds, masked_labels)\n",
        "        losses.append(loss.item())\n",
        "        all_labels.append(masked_labels.detach().cpu().numpy())\n",
        "        all_preds.append(torch.max(masked_preds.data, 1)[1].detach().cpu().numpy())\n",
        "\n",
        "    all_labels = np.concatenate(all_labels)\n",
        "    all_preds = np.concatenate(all_preds)\n",
        "    f1 = f1_score(all_labels, all_preds, average='micro')\n",
        "    acc = accuracy_score(all_labels, all_preds)\n",
        "    p = precision_score(all_labels, all_preds, average='micro')\n",
        "    r = recall_score(all_labels, all_preds, average='micro')\n",
        "\n",
        "    return losses, f1, acc, p, r\n",
        "\n",
        "def save_model(model, optimizer, scheduler, metric, epoch, path):\n",
        "    torch.save(\n",
        "        {'model_state_dict'         : model.state_dict(),\n",
        "         'optimizer_state_dict'     : optimizer.state_dict(),\n",
        "         'scheduler_state_dict'     : scheduler.state_dict(),\n",
        "         metric[0]                  : metric[1],\n",
        "         'epoch'                    : epoch},\n",
        "         path\n",
        "    )\n",
        "\n",
        "def train_model(net, train_loader, valid_loader, test_loader, optimizer, bert_finetuning_epochs=3, n_epochs=10,\n",
        "                verbose=False, plot=False):\n",
        "    net.to(device)\n",
        "\n",
        "    criterion = nn.CrossEntropyLoss()\n",
        "\n",
        "    scheduler = optim.lr_scheduler.ReduceLROnPlateau(optimizer, 'min', factor=0.3, patience=2, min_lr=1e-6, verbose=verbose)\n",
        "\n",
        "    best_score = 0\n",
        "    epochs_without_improvement = 0\n",
        "    all_train_losses, all_val_losses, all_scores = [], [], []\n",
        "\n",
        "    for epoch in range(n_epochs):\n",
        "        if bert_finetuning_epochs and epoch == bert_finetuning_epochs:  # freeze Bert weights after n epochs\n",
        "            net.bert_embedder.freeze_bert()\n",
        "\n",
        "        # Train\n",
        "        losses = train_epoch(net, train_loader, optimizer, criterion)\n",
        "        all_train_losses += losses\n",
        "        if verbose:\n",
        "            print(f'[EPOCH {epoch}] Train loss: {np.mean(losses)}')\n",
        "\n",
        "        # Val\n",
        "        losses, f1_val, acc_val, p_val, r_val = val_epoch(net, valid_loader, criterion)\n",
        "        all_val_losses.append(np.mean(losses))\n",
        "        scheduler.step(np.mean(losses))\n",
        "        all_scores.append(f1_val)\n",
        "        if verbose:\n",
        "            print(f'[EPOCH {epoch}] Val loss: {np.mean(losses)}, F1-score: {f1_val}, Accuracy: {acc_val}, Precision: {p_val}, Recall: {r_val}')\n",
        "\n",
        "        save_model(model, optimizer, scheduler, ['f1_val', f1_val], epoch, epoch_model_path)\n",
        "        print(\"Saved epoch model\")\n",
        "\n",
        "        # Early stopping\n",
        "        if f1_val > best_score:\n",
        "            best_score = f1_val\n",
        "            save_model(model, optimizer, scheduler, ['f1_val', f1_val], epoch, best_model_path)\n",
        "            epochs_without_improvement = 0\n",
        "            print(\"Saved best model\")\n",
        "        else:\n",
        "            epochs_without_improvement += 1\n",
        "            if epochs_without_improvement >= 5:\n",
        "                print(\"Early stopping\")\n",
        "                break\n",
        "\n",
        "\n",
        "    if plot:\n",
        "        steps_per_epoch = len(train_loader) * train_loader.batch_size // train_loader.batch_size + 1\n",
        "        _, (ax1, ax2) = plt.subplots(1, 2, figsize=(18, 5))\n",
        "        ax1.plot(all_train_losses, label='train_loss')\n",
        "        ax1.plot(steps_per_epoch * np.arange(len(all_val_losses)), all_val_losses, marker='o', label='val_loss')\n",
        "        ax1.set_xticks(steps_per_epoch * np.arange(len(all_val_losses)))\n",
        "        ax1.set_xticklabels(np.arange(len(all_val_losses)))\n",
        "        ax2.plot(all_scores, label='F1', marker='o')\n",
        "        ax1.legend()\n",
        "        ax2.legend()\n",
        "        plt.show()\n"
      ],
      "metadata": {
        "id": "da_wuXP7tFKQ"
      },
      "execution_count": null,
      "outputs": []
    },
    {
      "cell_type": "code",
      "source": [
        "train_model(model, train_loader, valid_loader, test_loader, optimizer,\n",
        "            bert_finetuning_epochs=5, n_epochs=100, verbose=True, plot=True)"
      ],
      "metadata": {
        "colab": {
          "base_uri": "https://localhost:8080/",
          "height": 1000
        },
        "id": "EpWkvXs3rjvT",
        "outputId": "62507ab9-868e-4aed-8d9d-f99d3d352dc4"
      },
      "execution_count": null,
      "outputs": [
        {
          "output_type": "stream",
          "name": "stdout",
          "text": [
            "[EPOCH 0] Train loss: 1.2399718649685383\n",
            "[EPOCH 0] Val loss: 1.1915227770805359, F1-score: 0.6577896138482024, Accuracy: 0.6577896138482024, Precision: 0.6577896138482024, Recall: 0.6577896138482024\n",
            "Saved epoch model\n",
            "Saved best model\n",
            "[EPOCH 1] Train loss: 1.0168617982417345\n",
            "[EPOCH 1] Val loss: 1.13275146484375, F1-score: 0.6830892143808256, Accuracy: 0.6830892143808256, Precision: 0.6830892143808256, Recall: 0.6830892143808256\n",
            "Saved epoch model\n",
            "Saved best model\n",
            "[EPOCH 2] Train loss: 0.8733573313802481\n",
            "[EPOCH 2] Val loss: 1.0544168800115585, F1-score: 0.6857523302263648, Accuracy: 0.6857523302263648, Precision: 0.6857523302263648, Recall: 0.6857523302263648\n",
            "Saved epoch model\n",
            "Saved best model\n",
            "[EPOCH 3] Train loss: 0.7734714690595865\n",
            "[EPOCH 3] Val loss: 0.9890319108963013, F1-score: 0.7057256990679095, Accuracy: 0.7057256990679095, Precision: 0.7057256990679095, Recall: 0.7057256990679095\n",
            "Saved epoch model\n",
            "Saved best model\n",
            "[EPOCH 4] Train loss: 0.6839219611138105\n",
            "[EPOCH 4] Val loss: 0.9935775697231293, F1-score: 0.7163781624500667, Accuracy: 0.7163781624500666, Precision: 0.7163781624500666, Recall: 0.7163781624500666\n",
            "Saved epoch model\n",
            "Saved best model\n",
            "[EPOCH 5] Train loss: 0.5726120891049504\n",
            "[EPOCH 5] Val loss: 0.9969186335802078, F1-score: 0.7050599201065246, Accuracy: 0.7050599201065246, Precision: 0.7050599201065246, Recall: 0.7050599201065246\n",
            "Saved epoch model\n",
            "[EPOCH 6] Train loss: 0.5106704393401742\n",
            "Epoch 00007: reducing learning rate of group 0 to 3.0000e-04.\n",
            "[EPOCH 6] Val loss: 1.0084907561540604, F1-score: 0.7190412782956058, Accuracy: 0.7190412782956058, Precision: 0.7190412782956058, Recall: 0.7190412782956058\n",
            "Saved epoch model\n",
            "Saved best model\n",
            "[EPOCH 7] Train loss: 0.45531961414963007\n",
            "[EPOCH 7] Val loss: 1.0025679916143417, F1-score: 0.7223701731025299, Accuracy: 0.7223701731025299, Precision: 0.7223701731025299, Recall: 0.7223701731025299\n",
            "Saved epoch model\n",
            "Saved best model\n",
            "[EPOCH 8] Train loss: 0.443224155344069\n",
            "[EPOCH 8] Val loss: 1.011365830898285, F1-score: 0.7230359520639148, Accuracy: 0.7230359520639148, Precision: 0.7230359520639148, Recall: 0.7230359520639148\n",
            "Saved epoch model\n",
            "Saved best model\n",
            "[EPOCH 9] Train loss: 0.43430583644658327\n",
            "Epoch 00010: reducing learning rate of group 0 to 9.0000e-05.\n",
            "[EPOCH 9] Val loss: 1.018201321363449, F1-score: 0.7250332889480694, Accuracy: 0.7250332889480693, Precision: 0.7250332889480693, Recall: 0.7250332889480693\n",
            "Saved epoch model\n",
            "Saved best model\n",
            "[EPOCH 10] Train loss: 0.41983876936137676\n",
            "[EPOCH 10] Val loss: 1.0118668228387833, F1-score: 0.7223701731025299, Accuracy: 0.7223701731025299, Precision: 0.7223701731025299, Recall: 0.7223701731025299\n",
            "Saved epoch model\n",
            "[EPOCH 11] Train loss: 0.41822870448231697\n",
            "[EPOCH 11] Val loss: 1.0168145298957825, F1-score: 0.7230359520639148, Accuracy: 0.7230359520639148, Precision: 0.7230359520639148, Recall: 0.7230359520639148\n",
            "Saved epoch model\n",
            "[EPOCH 12] Train loss: 0.40768427960574627\n",
            "Epoch 00013: reducing learning rate of group 0 to 2.7000e-05.\n",
            "[EPOCH 12] Val loss: 1.024475634098053, F1-score: 0.7217043941411451, Accuracy: 0.7217043941411452, Precision: 0.7217043941411452, Recall: 0.7217043941411452\n",
            "Saved epoch model\n",
            "[EPOCH 13] Train loss: 0.4069720050320029\n",
            "[EPOCH 13] Val loss: 1.0214378386735916, F1-score: 0.7237017310252997, Accuracy: 0.7237017310252996, Precision: 0.7237017310252996, Recall: 0.7237017310252996\n",
            "Saved epoch model\n",
            "[EPOCH 14] Train loss: 0.39693039655685425\n",
            "[EPOCH 14] Val loss: 1.0219972133636475, F1-score: 0.7243675099866844, Accuracy: 0.7243675099866844, Precision: 0.7243675099866844, Recall: 0.7243675099866844\n",
            "Saved epoch model\n",
            "Early stopping\n"
          ]
        },
        {
          "output_type": "display_data",
          "data": {
            "text/plain": [
              "<Figure size 1800x500 with 2 Axes>"
            ],
            "image/png": "[encoded data removed]"
          },
          "metadata": {}
        }
      ]
    },
    {
      "cell_type": "markdown",
      "source": [
        "# test"
      ],
      "metadata": {
        "id": "Le-qYbIK2ibS"
      }
    },
    {
      "cell_type": "code",
      "source": [
        "device = 'cuda' if torch.cuda.is_available() else 'cpu'\n",
        "m =  DialogueNetBert(\n",
        "    input_size=768,\n",
        "    output_size=42,\n",
        "    rnn_hidden_size=128,\n",
        "    use_layer_norm=True,\n",
        "    max_utterance_len=max_length,\n",
        "    bert_layers_to_finetune=2,\n",
        ").to(device)\n",
        "checkpoint = torch.load('/content/checkpoint_best.pth')\n",
        "m.load_state_dict(checkpoint['model_state_dict'])"
      ],
      "metadata": {
        "colab": {
          "base_uri": "https://localhost:8080/"
        },
        "id": "dYM8RfONiFZu",
        "outputId": "aedad78e-0129-454e-b856-c267594fdebb"
      },
      "execution_count": 100,
      "outputs": [
        {
          "output_type": "execute_result",
          "data": {
            "text/plain": [
              "<All keys matched successfully>"
            ]
          },
          "metadata": {},
          "execution_count": 100
        }
      ]
    },
    {
      "cell_type": "code",
      "source": [
        "test_d = pd.read_csv('/content/cba6745b-33df-4d20-83e7-59156af951b3.csv')"
      ],
      "metadata": {
        "id": "56GmP0ew2ikh"
      },
      "execution_count": 123,
      "outputs": []
    },
    {
      "cell_type": "code",
      "source": [
        "test_text = list(test_d['Utterance'])"
      ],
      "metadata": {
        "id": "dhD4DZVKHY7w"
      },
      "execution_count": 47,
      "outputs": []
    },
    {
      "cell_type": "code",
      "source": [
        "test_text = [test_text]"
      ],
      "metadata": {
        "id": "tGXV0wLEehOQ"
      },
      "execution_count": 71,
      "outputs": []
    },
    {
      "cell_type": "code",
      "source": [
        "input_ids, attention_masks = [], []\n",
        "for text in tqdm(test_text):\n",
        "  encoded_input = tokenizer(text, padding=True, truncation=True, return_tensors='pt')\n",
        "  input_ids.append(encoded_input['input_ids'])\n",
        "  attention_masks.append(encoded_input['attention_mask'])\n",
        "\n",
        "for i in range(len(input_ids)):\n",
        "      if input_ids[i].size(1) < max_length:\n",
        "          padding_shape = (input_ids[i].size(0), max_length - input_ids[i].size(1))\n",
        "          input_ids[i] = torch.cat((input_ids[i], torch.zeros(padding_shape)), axis=1)\n",
        "          attention_masks[i] = torch.cat((attention_masks[i], torch.zeros(padding_shape)), axis=1)\n",
        "\n",
        "dialogue_lengths = [len(dialogue) for dialogue in input_ids]\n",
        "dialogue_lengths = torch.LongTensor(dialogue_lengths)\n",
        "\n",
        "input_ids = torch.nn.utils.rnn.pad_sequence(input_ids, batch_first=True)\n",
        "attention_masks = torch.nn.utils.rnn.pad_sequence(attention_masks, batch_first=True)\n"
      ],
      "metadata": {
        "colab": {
          "base_uri": "https://localhost:8080/",
          "height": 136,
          "referenced_widgets": [
            "ebe8e482cd9846d7b423d7f5ec51d25e",
            "22801bb9525341339b7afb443c78310d",
            "be0a1323d6ad42fa9ed16e0e6b926ff7",
            "17b0257348434ce3b8fb8d5e61ffa293",
            "1f1348799d8b480ba489d689f01dc46b",
            "6011a5952f2349888aeee5aa3db52516",
            "e932f9fcfde240b0a930a86338450d5e",
            "bf21fa576a7e4aeba40e5a56bdb5278e",
            "4ba4451a3f71404bb7c26bef527fb4e1",
            "afabf47a1f9741cd8410d96da4599743",
            "7c0506beedbf40dc8432817c638d0419"
          ]
        },
        "id": "5PU60haSm1eW",
        "outputId": "d6505173-1b51-4184-f537-ba470d1d46dc"
      },
      "execution_count": 90,
      "outputs": [
        {
          "output_type": "display_data",
          "data": {
            "text/plain": [
              "  0%|          | 0/1 [00:00<?, ?it/s]"
            ],
            "application/vnd.jupyter.widget-view+json": {
              "version_major": 2,
              "version_minor": 0,
              "model_id": "ebe8e482cd9846d7b423d7f5ec51d25e"
            }
          },
          "metadata": {}
        },
        {
          "output_type": "stream",
          "name": "stdout",
          "text": [
            "564\n",
            "564\n",
            "tensor([564])\n",
            "564\n",
            "564\n"
          ]
        }
      ]
    },
    {
      "cell_type": "code",
      "source": [
        "dialogue_lengths_t, input_ids_t, attention_masks_t = dialogue_lengths, input_ids, attention_masks"
      ],
      "metadata": {
        "id": "cKR17dy2JYp5"
      },
      "execution_count": 91,
      "outputs": []
    },
    {
      "cell_type": "code",
      "source": [
        "class testDataset(Dataset):\n",
        "    def __init__(self, input_ids, attention_masks, input_lengths):\n",
        "        super().__init__()\n",
        "        self.input_ids = input_ids\n",
        "        self.attention_masks = attention_masks\n",
        "        self.input_lengths = input_lengths\n",
        "\n",
        "    def __getitem__(self, idx):\n",
        "        return {\n",
        "            'input_ids': self.input_ids[idx],\n",
        "            'attention_masks': self.attention_masks[idx],\n",
        "            'input_lengths': self.input_lengths[idx],\n",
        "        }\n",
        "\n",
        "    def __len__(self):\n",
        "        return len(self.input_ids)\n",
        "\n",
        "test_set = testDataset(input_ids_t, attention_masks_t, dialogue_lengths_t)"
      ],
      "metadata": {
        "id": "V1IPv95-IkKh"
      },
      "execution_count": 93,
      "outputs": []
    },
    {
      "cell_type": "code",
      "source": [
        "test_loader = DataLoader(test_set, batch_size=batch_size, shuffle=False)"
      ],
      "metadata": {
        "id": "CD8TW2OoYBnm"
      },
      "execution_count": 96,
      "outputs": []
    },
    {
      "cell_type": "code",
      "source": [
        "results = []\n",
        "m.eval()\n",
        "i=0\n",
        "print(\"Testing\")\n",
        "for data in tqdm(test_loader):\n",
        "    i+=1\n",
        "    input_ids_t, attention_masks_t, dialogue_lengths_t   = data\n",
        "\n",
        "    with torch.no_grad():\n",
        "        outputs = m(**batch)\n",
        "\n",
        "    results.extend(outputs)"
      ],
      "metadata": {
        "colab": {
          "base_uri": "https://localhost:8080/",
          "height": 66,
          "referenced_widgets": [
            "96ed21c832c748b1a81166bb8596d400",
            "d5e7ef981e854fd782328fc151c7ccb2",
            "f9aa4aec3d4f421dba8c4b4279b45a03",
            "008649fdf0cb4294bce4bc9203fd17da",
            "3b7185b3d083419a837ef0fc36e9fc33",
            "56b4e4efa86b4f588d34634d23a685f2",
            "45e04979890b4af6b29eff9c069f6ed1",
            "397c8e9b569b439287b5f8b54bb9f084",
            "11020a92590d469ea63d49f377d000cd",
            "14e0cfe6c7154901a2664d7f57f56706",
            "cc161bfe19b24bdc9ac4e076b406c7c4"
          ]
        },
        "id": "NGLJkP0_asVe",
        "outputId": "8242456e-b266-4e43-98cc-48fa093c6f53"
      },
      "execution_count": 103,
      "outputs": [
        {
          "output_type": "stream",
          "name": "stdout",
          "text": [
            "Testing\n"
          ]
        },
        {
          "output_type": "display_data",
          "data": {
            "text/plain": [
              "  0%|          | 0/1 [00:00<?, ?it/s]"
            ],
            "application/vnd.jupyter.widget-view+json": {
              "version_major": 2,
              "version_minor": 0,
              "model_id": "96ed21c832c748b1a81166bb8596d400"
            }
          },
          "metadata": {}
        }
      ]
    },
    {
      "cell_type": "code",
      "source": [
        "map = metadata['label_freq'][['Labels','Dialogue Act']]\n",
        "map = pd.Series(map['Dialogue Act'].values, index=map.Labels).to_dict()"
      ],
      "metadata": {
        "id": "HPUdLb7hr9N1"
      },
      "execution_count": 140,
      "outputs": []
    },
    {
      "cell_type": "code",
      "source": [
        "test_d['DA'] = [map[j] for j in [all_labels[i] for i in torch.max(results[0], 1).indices]]"
      ],
      "metadata": {
        "id": "guHEohmLrBEb"
      },
      "execution_count": 141,
      "outputs": []
    },
    {
      "cell_type": "code",
      "source": [
        "test_d.to_csv('cba6745b-33df-4d20-83e7-59156af951b3_da.csv')"
      ],
      "metadata": {
        "id": "JfJrrHpVrSHQ"
      },
      "execution_count": 144,
      "outputs": []
    }
  ]
}