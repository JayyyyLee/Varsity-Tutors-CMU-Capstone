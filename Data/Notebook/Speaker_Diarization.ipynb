{
  "nbformat": 4,
  "nbformat_minor": 0,
  "metadata": {
    "colab": {
      "provenance": [],
      "collapsed_sections": [
        "lbPqxVzVOQ9v",
        "Y6gPq6rhONkZ"
      ]
    },
    "kernelspec": {
      "name": "python3",
      "display_name": "Python 3"
    },
    "language_info": {
      "name": "python"
    }
  },
  "cells": [
    {
      "cell_type": "code",
      "execution_count": 1,
      "metadata": {
        "id": "06MKZQ3HkNxF",
        "colab": {
          "base_uri": "https://localhost:8080/"
        },
        "outputId": "a8f35656-8bc8-4f48-d4d8-ba9c32e2bc19"
      },
      "outputs": [
        {
          "output_type": "stream",
          "name": "stdout",
          "text": [
            "Collecting assemblyai\n",
            "  Downloading assemblyai-0.22.0-py3-none-any.whl (65 kB)\n",
            "\u001b[2K     \u001b[90m━━━━━━━━━━━━━━━━━━━━━━━━━━━━━━━━━━━━━━━━\u001b[0m \u001b[32m65.4/65.4 kB\u001b[0m \u001b[31m1.4 MB/s\u001b[0m eta \u001b[36m0:00:00\u001b[0m\n",
            "\u001b[?25hCollecting httpx>=0.19.0 (from assemblyai)\n",
            "  Downloading httpx-0.27.0-py3-none-any.whl (75 kB)\n",
            "\u001b[2K     \u001b[90m━━━━━━━━━━━━━━━━━━━━━━━━━━━━━━━━━━━━━━━━\u001b[0m \u001b[32m75.6/75.6 kB\u001b[0m \u001b[31m3.6 MB/s\u001b[0m eta \u001b[36m0:00:00\u001b[0m\n",
            "\u001b[?25hRequirement already satisfied: pydantic!=1.10.7,>=1.7.0 in /usr/local/lib/python3.10/dist-packages (from assemblyai) (2.6.1)\n",
            "Requirement already satisfied: typing-extensions>=3.7 in /usr/local/lib/python3.10/dist-packages (from assemblyai) (4.9.0)\n",
            "Collecting websockets>=11.0 (from assemblyai)\n",
            "  Downloading websockets-12.0-cp310-cp310-manylinux_2_5_x86_64.manylinux1_x86_64.manylinux_2_17_x86_64.manylinux2014_x86_64.whl (130 kB)\n",
            "\u001b[2K     \u001b[90m━━━━━━━━━━━━━━━━━━━━━━━━━━━━━━━━━━━━━━━━\u001b[0m \u001b[32m130.2/130.2 kB\u001b[0m \u001b[31m11.7 MB/s\u001b[0m eta \u001b[36m0:00:00\u001b[0m\n",
            "\u001b[?25hRequirement already satisfied: anyio in /usr/local/lib/python3.10/dist-packages (from httpx>=0.19.0->assemblyai) (3.7.1)\n",
            "Requirement already satisfied: certifi in /usr/local/lib/python3.10/dist-packages (from httpx>=0.19.0->assemblyai) (2024.2.2)\n",
            "Collecting httpcore==1.* (from httpx>=0.19.0->assemblyai)\n",
            "  Downloading httpcore-1.0.4-py3-none-any.whl (77 kB)\n",
            "\u001b[2K     \u001b[90m━━━━━━━━━━━━━━━━━━━━━━━━━━━━━━━━━━━━━━━━\u001b[0m \u001b[32m77.8/77.8 kB\u001b[0m \u001b[31m5.1 MB/s\u001b[0m eta \u001b[36m0:00:00\u001b[0m\n",
            "\u001b[?25hRequirement already satisfied: idna in /usr/local/lib/python3.10/dist-packages (from httpx>=0.19.0->assemblyai) (3.6)\n",
            "Requirement already satisfied: sniffio in /usr/local/lib/python3.10/dist-packages (from httpx>=0.19.0->assemblyai) (1.3.0)\n",
            "Collecting h11<0.15,>=0.13 (from httpcore==1.*->httpx>=0.19.0->assemblyai)\n",
            "  Downloading h11-0.14.0-py3-none-any.whl (58 kB)\n",
            "\u001b[2K     \u001b[90m━━━━━━━━━━━━━━━━━━━━━━━━━━━━━━━━━━━━━━━━\u001b[0m \u001b[32m58.3/58.3 kB\u001b[0m \u001b[31m5.9 MB/s\u001b[0m eta \u001b[36m0:00:00\u001b[0m\n",
            "\u001b[?25hRequirement already satisfied: annotated-types>=0.4.0 in /usr/local/lib/python3.10/dist-packages (from pydantic!=1.10.7,>=1.7.0->assemblyai) (0.6.0)\n",
            "Requirement already satisfied: pydantic-core==2.16.2 in /usr/local/lib/python3.10/dist-packages (from pydantic!=1.10.7,>=1.7.0->assemblyai) (2.16.2)\n",
            "Requirement already satisfied: exceptiongroup in /usr/local/lib/python3.10/dist-packages (from anyio->httpx>=0.19.0->assemblyai) (1.2.0)\n",
            "Installing collected packages: websockets, h11, httpcore, httpx, assemblyai\n",
            "Successfully installed assemblyai-0.22.0 h11-0.14.0 httpcore-1.0.4 httpx-0.27.0 websockets-12.0\n"
          ]
        }
      ],
      "source": [
        "!pip install assemblyai"
      ]
    },
    {
      "cell_type": "code",
      "source": [
        "!pip install openai==1.2.0"
      ],
      "metadata": {
        "colab": {
          "base_uri": "https://localhost:8080/"
        },
        "id": "razixoYZSOdY",
        "outputId": "cee2b3de-440a-4966-e9a3-95096e05afb5"
      },
      "execution_count": 2,
      "outputs": [
        {
          "output_type": "stream",
          "name": "stdout",
          "text": [
            "Collecting openai==1.2.0\n",
            "  Downloading openai-1.2.0-py3-none-any.whl (219 kB)\n",
            "\u001b[?25l     \u001b[90m━━━━━━━━━━━━━━━━━━━━━━━━━━━━━━━━━━━━━━━━\u001b[0m \u001b[32m0.0/219.9 kB\u001b[0m \u001b[31m?\u001b[0m eta \u001b[36m-:--:--\u001b[0m\r\u001b[2K     \u001b[91m━━━━━━━━━━━━━━━━━━━━━━━━━━━━━━━\u001b[0m\u001b[91m╸\u001b[0m\u001b[90m━━━━━━━━\u001b[0m \u001b[32m174.1/219.9 kB\u001b[0m \u001b[31m5.0 MB/s\u001b[0m eta \u001b[36m0:00:01\u001b[0m\r\u001b[2K     \u001b[90m━━━━━━━━━━━━━━━━━━━━━━━━━━━━━━━━━━━━━━━━\u001b[0m \u001b[32m219.9/219.9 kB\u001b[0m \u001b[31m4.6 MB/s\u001b[0m eta \u001b[36m0:00:00\u001b[0m\n",
            "\u001b[?25hRequirement already satisfied: anyio<4,>=3.5.0 in /usr/local/lib/python3.10/dist-packages (from openai==1.2.0) (3.7.1)\n",
            "Requirement already satisfied: distro<2,>=1.7.0 in /usr/lib/python3/dist-packages (from openai==1.2.0) (1.7.0)\n",
            "Requirement already satisfied: httpx<1,>=0.23.0 in /usr/local/lib/python3.10/dist-packages (from openai==1.2.0) (0.27.0)\n",
            "Requirement already satisfied: pydantic<3,>=1.9.0 in /usr/local/lib/python3.10/dist-packages (from openai==1.2.0) (2.6.1)\n",
            "Requirement already satisfied: tqdm>4 in /usr/local/lib/python3.10/dist-packages (from openai==1.2.0) (4.66.2)\n",
            "Requirement already satisfied: typing-extensions<5,>=4.5 in /usr/local/lib/python3.10/dist-packages (from openai==1.2.0) (4.9.0)\n",
            "Requirement already satisfied: idna>=2.8 in /usr/local/lib/python3.10/dist-packages (from anyio<4,>=3.5.0->openai==1.2.0) (3.6)\n",
            "Requirement already satisfied: sniffio>=1.1 in /usr/local/lib/python3.10/dist-packages (from anyio<4,>=3.5.0->openai==1.2.0) (1.3.0)\n",
            "Requirement already satisfied: exceptiongroup in /usr/local/lib/python3.10/dist-packages (from anyio<4,>=3.5.0->openai==1.2.0) (1.2.0)\n",
            "Requirement already satisfied: certifi in /usr/local/lib/python3.10/dist-packages (from httpx<1,>=0.23.0->openai==1.2.0) (2024.2.2)\n",
            "Requirement already satisfied: httpcore==1.* in /usr/local/lib/python3.10/dist-packages (from httpx<1,>=0.23.0->openai==1.2.0) (1.0.4)\n",
            "Requirement already satisfied: h11<0.15,>=0.13 in /usr/local/lib/python3.10/dist-packages (from httpcore==1.*->httpx<1,>=0.23.0->openai==1.2.0) (0.14.0)\n",
            "Requirement already satisfied: annotated-types>=0.4.0 in /usr/local/lib/python3.10/dist-packages (from pydantic<3,>=1.9.0->openai==1.2.0) (0.6.0)\n",
            "Requirement already satisfied: pydantic-core==2.16.2 in /usr/local/lib/python3.10/dist-packages (from pydantic<3,>=1.9.0->openai==1.2.0) (2.16.2)\n",
            "Installing collected packages: openai\n",
            "Successfully installed openai-1.2.0\n"
          ]
        }
      ]
    },
    {
      "cell_type": "code",
      "source": [
        "import openai\n",
        "from openai import OpenAI\n",
        "client = OpenAI(\n",
        "  api_key=\"bks-3f6fd9130cb4ba794b33bb22b1829f2fad3e0fbfc576cf78\",\n",
        "  base_url=\"https://api.trybricks.ai/api/providers/openai/v1\",\n",
        ")\n",
        "def get_completion(prompt, model = \"gpt-4-turbo-preview\", temperature =0):\n",
        "  messages = [{\"role\":\"user\", \"content\": prompt}]\n",
        "  response = client.chat.completions.create(\n",
        "      model = model,\n",
        "      messages = messages,\n",
        "      temperature =temperature # degree of expiration (randomness) (0 same result - 1 creative)\n",
        "  )\n",
        "  return response.choices[0].message.content"
      ],
      "metadata": {
        "id": "I_Y4YGxlSRiG"
      },
      "execution_count": 3,
      "outputs": []
    },
    {
      "cell_type": "code",
      "source": [
        "from google.colab import drive\n",
        "drive.mount('/content/drive', force_remount=True)"
      ],
      "metadata": {
        "colab": {
          "base_uri": "https://localhost:8080/"
        },
        "id": "_XFJtRo_lWBa",
        "outputId": "979c409a-5323-411c-e5a2-13c5bc055674"
      },
      "execution_count": 4,
      "outputs": [
        {
          "output_type": "stream",
          "name": "stdout",
          "text": [
            "Mounted at /content/drive\n"
          ]
        }
      ]
    },
    {
      "cell_type": "code",
      "source": [
        "import os\n",
        "import assemblyai as aai\n",
        "import pandas as pd\n",
        "import json\n"
      ],
      "metadata": {
        "id": "e17Qf6EvqHiZ"
      },
      "execution_count": 5,
      "outputs": []
    },
    {
      "cell_type": "code",
      "source": [
        "aai.settings.api_key = \"c390f6c66e914d60be43328342231210\"\n",
        "names = os.listdir('/content/drive/MyDrive/2_22')\n",
        "config = aai.TranscriptionConfig(\n",
        "  speaker_labels=True,\n",
        "  speakers_expected=2\n",
        ")\n"
      ],
      "metadata": {
        "id": "6dQqGEJzgqd5"
      },
      "execution_count": 48,
      "outputs": []
    },
    {
      "cell_type": "code",
      "source": [
        "ns = names[210:240]\n",
        "ns"
      ],
      "metadata": {
        "id": "GfcSWQ9tmuvp"
      },
      "execution_count": null,
      "outputs": []
    },
    {
      "cell_type": "markdown",
      "source": [
        "## new\n"
      ],
      "metadata": {
        "id": "mlKUznCLOn8Q"
      }
    },
    {
      "cell_type": "code",
      "source": [
        "def get_words(transcript):\n",
        "  speaker = []\n",
        "  words = []\n",
        "  start_time = []\n",
        "  end_time = []\n",
        "  for utterance in transcript.utterances:\n",
        "    for word in utterance.words:\n",
        "      speaker.append(word.speaker)\n",
        "      words.append(word.text)\n",
        "      start_time.append(word.start)\n",
        "      end_time.append(word.end)\n",
        "  result = pd.DataFrame({'Speaker': speaker, 'Utterance start time (milliseconds)': start_time, 'Utterance end time (milliseconds)': end_time,  'Utterance': words})\n",
        "  return result"
      ],
      "metadata": {
        "id": "PLpdUaiSOuON"
      },
      "execution_count": 54,
      "outputs": []
    },
    {
      "cell_type": "code",
      "source": [
        "def combine_sentence(result):\n",
        "  speaker = []\n",
        "  text = []\n",
        "  start_time = []\n",
        "  end_time = []\n",
        "  temp = ''\n",
        "  s_time = result['Utterance start time (milliseconds)'][0]\n",
        "  for i in range(len(result)):\n",
        "    seg = result['Utterance'][i]\n",
        "    temp = temp + \" \" + seg\n",
        "    if (seg[-1] in ['?','.']):\n",
        "      speaker.append(result['Speaker'][i])\n",
        "      text.append(temp)\n",
        "      start_time.append(s_time)\n",
        "      end_time.append(result['Utterance end time (milliseconds)'][i])\n",
        "      if (i+1 < len(result)):\n",
        "        s_time = result['Utterance start time (milliseconds)'][i+1]\n",
        "      temp  = ''\n",
        "  result_1 = pd.DataFrame({'Speaker': speaker, 'Utterance start time (milliseconds)': start_time, 'Utterance end time (milliseconds)': end_time,  'Utterance': text})\n",
        "  return result_1"
      ],
      "metadata": {
        "id": "jiTueIzcW8B8"
      },
      "execution_count": 55,
      "outputs": []
    },
    {
      "cell_type": "code",
      "source": [
        "for n in ns:\n",
        "  path = '/content/drive/MyDrive/2_22/' + n\n",
        "  transcript = aai.Transcriber().transcribe(path, config)\n",
        "  if transcript.utterances is None:\n",
        "    result = pd.DataFrame({'Speaker': [], 'Utterance start time (milliseconds)': [], 'Utterance end time (milliseconds)': [],  'Utterance': []})\n",
        "  else:\n",
        "    result = get_words(transcript)\n",
        "  if len(result) != 0:\n",
        "    result_1 = combine_sentence(result)\n",
        "\n",
        "    temp = [result['Speaker'][i]+ \" : \" + result['Utterance'][i]  for i in range(len(result))]\n",
        "    d = ' '.join(temp) [:900]\n",
        "    prompt = f\"\"\"I will provide you a transcript of a tutor and a student.\n",
        "    There will to two speakers A and B. You task is to identify which is student and which is tutor.\n",
        "    In this session, a tutor may teach students knowledge about the topic, help student solve their problem, or ask questions to check the students' understanding.\n",
        "    Format your output in a JSON format with A,B as key; student, tutor as value\n",
        "    \"\"\" + d\n",
        "    r = get_completion(prompt)\n",
        "    a = json.loads(r[8:-4])\n",
        "    result_1 = result_1.replace({'Speaker': a})\n",
        "    result_1.to_csv('/content/drive/MyDrive/transcript/'+n[:-4]+'.csv', index=False)\n",
        "  else:\n",
        "    result.to_csv('/content/drive/MyDrive/transcript/'+n[:-4]+'.csv', index=False)\n",
        "  print(n)"
      ],
      "metadata": {
        "id": "lfEwhfJEYM2o",
        "colab": {
          "base_uri": "https://localhost:8080/"
        },
        "outputId": "a31ade4c-ddb3-4fa4-f322-59995965b22d"
      },
      "execution_count": null,
      "outputs": [
        {
          "output_type": "stream",
          "name": "stdout",
          "text": [
            "a32c26fd-c118-48ef-a6ec-1c819e609f44.mp3\n",
            "a5c846c8-2447-447d-8ef8-46b5e6db22cb.mp3\n",
            "a6f9b15b-7039-436c-9b3b-6fb820eb85fa.mp3\n",
            "a81f43ec-22a2-4e1d-babf-db7ae1a04093.mp3\n",
            "a9cd9d98-2e1b-4565-b8db-fb88738ac0cd.mp3\n",
            "2a9ce4c1-1b0d-48a8-b177-9c4970a31c0d.mp3\n",
            "16413f32-d8d7-43fa-b223-a629518c2a4c.mp3\n",
            "aafc7f6e-4698-410d-8960-607e5bdfefa1.mp3\n",
            "55fcc4f7-24b0-4d37-8928-a4fec674f72e.mp3\n",
            "af8b82ea-5fdf-4f4e-bf47-0cec704133f3.mp3\n"
          ]
        }
      ]
    },
    {
      "cell_type": "markdown",
      "source": [
        "## prev"
      ],
      "metadata": {
        "id": "lbPqxVzVOQ9v"
      }
    },
    {
      "cell_type": "code",
      "source": [
        "for n in names:\n",
        "  path = '/content/drive/MyDrive/Colab Notebooks/sampleaudio/audio/' + n\n",
        "  transcript = aai.Transcriber().transcribe(path, config)\n",
        "  speaker = []\n",
        "  text = []\n",
        "  start_time = []\n",
        "  end_time = []\n",
        "  for utterance in transcript.utterances:\n",
        "    speaker.append(utterance.speaker)\n",
        "    text.append(utterance.text)\n",
        "    start_time.append(utterance.start)\n",
        "    end_time.append(utterance.end)\n",
        "  result = pd.DataFrame({'Speaker': speaker, 'Utterance start time (milliseconds)': start_time, 'Utterance end time (milliseconds)': end_time,  'Utterance': text})\n",
        "\n",
        "  temp = [result['Speaker'][i]+ \" : \" + result['Utterance'][i]  for i in range(len(result))]\n",
        "  d = ' '.join(temp) [:4097]\n",
        "  prompt = f\"\"\"I will provide you a transcript of a tutor and a student.\n",
        "  There will to two speakers A and B. You task is to identify which is student and which is tutor.\n",
        "  Format your output in a JSON format with A,B as key; student, tutor as value\n",
        "  \"\"\" + d\n",
        "  r = get_completion(prompt)\n",
        "  a = json.loads(r)\n",
        "  result = result.replace({'Speaker': a})\n",
        "\n",
        "\n",
        "  result.to_csv('/content/drive/MyDrive/Colab Notebooks/sampleaudio/transcript/'+n[:-4]+'.csv', index=False)"
      ],
      "metadata": {
        "id": "ti_qysq5nS5a"
      },
      "execution_count": null,
      "outputs": []
    },
    {
      "cell_type": "markdown",
      "source": [
        "## task"
      ],
      "metadata": {
        "id": "Y6gPq6rhONkZ"
      }
    },
    {
      "cell_type": "code",
      "source": [
        "import os\n",
        "names = os.listdir('/content/drive/MyDrive/Colab Notebooks/sampleaudio/transcript')"
      ],
      "metadata": {
        "id": "m8EpkwyCyuP9"
      },
      "execution_count": null,
      "outputs": []
    },
    {
      "cell_type": "code",
      "source": [
        "names[2:]"
      ],
      "metadata": {
        "colab": {
          "base_uri": "https://localhost:8080/"
        },
        "id": "LgIs2wfVy6Fp",
        "outputId": "6b51779c-fe56-43b9-d569-c811c9b76adf"
      },
      "execution_count": null,
      "outputs": [
        {
          "output_type": "execute_result",
          "data": {
            "text/plain": [
              "['02c89eec-1b4f-4cb6-ae0f-ed00ae31d73f.csv',\n",
              " '9b2cf845-211b-489c-b799-fac19b192aaa.csv',\n",
              " '38a5f8bc-527e-4269-b7d3-4a16d0de4e55.csv',\n",
              " '43e4baec-0c91-47cd-be91-50ad67d268ab.csv',\n",
              " '575ada37-caf9-4dc6-9956-6d2e115bcf9f.csv',\n",
              " '9225e68c-9d52-4148-952d-70f417d77c19.csv',\n",
              " '63734916-95cc-43ee-ac5c-df0268e45b4d.csv',\n",
              " 'aa642ee0-766f-42a4-bc42-9ca928ee3273.csv',\n",
              " 'a7f7932a-3fa4-4797-be9c-320f61225d97.csv',\n",
              " '0e204b03-0e0c-49ef-aa70-52f5e4d08ff1.csv']"
            ]
          },
          "metadata": {},
          "execution_count": 43
        }
      ]
    },
    {
      "cell_type": "code",
      "source": [
        "t = pd.DataFrame({'file': names[2:], 'assign': [\"Kevin\", \"Kevin\", \"Mufei\" , \"Mufei\" , \"Sandy\",  \"Sandy\", \"Wayne\" , \"Wayne\" , \"Yujie\", \"Yujie\"]})\n",
        "t.to_csv('/content/drive/MyDrive/Colab Notebooks/sampleaudio/transcript/tasks.csv', index=False)"
      ],
      "metadata": {
        "id": "KYASuI0-y6KJ"
      },
      "execution_count": null,
      "outputs": []
    },
    {
      "cell_type": "code",
      "source": [],
      "metadata": {
        "id": "5as5ez-CzkJI"
      },
      "execution_count": null,
      "outputs": []
    }
  ]
}