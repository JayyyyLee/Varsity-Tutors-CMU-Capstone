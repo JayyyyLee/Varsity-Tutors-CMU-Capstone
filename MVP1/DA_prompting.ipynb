{
  "cells": [
    {
      "cell_type": "markdown",
      "metadata": {
        "id": "CeY1Qcp6-xHy"
      },
      "source": [
        "# Lib"
      ]
    },
    {
      "cell_type": "code",
      "execution_count": null,
      "metadata": {},
      "outputs": [],
      "source": [
        "!pip install openai==1.2.0"
      ]
    },
    {
      "cell_type": "code",
      "execution_count": null,
      "metadata": {
        "id": "76f4PaMysGp_"
      },
      "outputs": [],
      "source": [
        "import os\n",
        "import pandas as pd\n",
        "import numpy as np\n",
        "import json\n",
        "import openai\n",
        "from openai import OpenAI\n",
        "from collections import Counter\n",
        "import seaborn as sns\n",
        "import matplotlib.pyplot as plt\n"
      ]
    },
    {
      "cell_type": "code",
      "execution_count": null,
      "metadata": {
        "id": "fSs6ZKvCsC9b"
      },
      "outputs": [],
      "source": [
        "client = OpenAI(\n",
        "  api_key=\"Enter_Your_OpenAI_Key_Here\"\n",
        ")\n",
        "def get_completion(prompt, model = \"gpt-4-turbo-preview\", temperature =0):\n",
        "  messages = [{\"role\":\"user\", \"content\": prompt}]\n",
        "  response = client.chat.completions.create(\n",
        "      model = model,\n",
        "      messages = messages,\n",
        "      temperature =temperature # degree of expiration (randomness) (0 same result - 1 creative)\n",
        "  )\n",
        "  return response.choices[0].message.content"
      ]
    },
    {
      "cell_type": "code",
      "execution_count": null,
      "metadata": {},
      "outputs": [],
      "source": [
        "# from google.colab import drive\n",
        "# drive.mount('/content/drive', force_remount=True)"
      ]
    },
    {
      "cell_type": "markdown",
      "metadata": {
        "id": "mptSjzOC7LQF"
      },
      "source": [
        "# DA schema"
      ]
    },
    {
      "cell_type": "code",
      "execution_count": null,
      "metadata": {
        "id": "T-U3pkPaaExO"
      },
      "outputs": [],
      "source": [
        "rawEx = pd.read_csv('/Data/da_schema.csv').iloc[:25]"
      ]
    },
    {
      "cell_type": "code",
      "execution_count": null,
      "metadata": {
        "id": "CmtmyW-7aK-4"
      },
      "outputs": [],
      "source": [
        "rawEx['combined'] = rawEx.apply(lambda x: list([x['exampleFromPaper'],\n",
        "                                                x['example1'],\n",
        "                                                x['example2'],\n",
        "                                                x['example3']]),axis=1)"
      ]
    },
    {
      "cell_type": "code",
      "execution_count": null,
      "metadata": {
        "id": "SqdJm6SzbN5d"
      },
      "outputs": [],
      "source": [
        "rawEx['combined'] = rawEx['combined'].apply(lambda x:[term for term in x if str(term) != 'nan'])"
      ]
    },
    {
      "cell_type": "code",
      "execution_count": null,
      "metadata": {
        "id": "gAANI_4N2c6H"
      },
      "outputs": [],
      "source": [
        "role = ['Tutor', 'Tutor & Student', 'Tutor', 'Tutor & Student',\n",
        "        'Tutor', 'Student','Tutor',\n",
        "        'Tutor','Tutor & Student','Student',\n",
        "        'Student','Tutor','Tutor',\n",
        "        'Tutor','Tutor',\n",
        "        'Tutor & Student', 'Tutor & Student','Tutor & Student',\n",
        "        'Tutor & Student', 'Tutor & Student', 'Tutor & Student', 'Tutor & Student',\n",
        "        'Tutor', 'Student', 'Student',]"
      ]
    },
    {
      "cell_type": "code",
      "execution_count": null,
      "metadata": {
        "id": "LVywNE6cb4tb"
      },
      "outputs": [],
      "source": [
        "da = rawEx['DA']\n",
        "sample = rawEx['combined']"
      ]
    },
    {
      "cell_type": "code",
      "execution_count": null,
      "metadata": {
        "id": "OEzzAMm47Npm"
      },
      "outputs": [],
      "source": [
        "s = pd.DataFrame({\"Dialogue Act\": da, 'Speakers': role, 'Examples': sample})\n",
        "sc = s.apply(lambda x: x.to_json(), axis=1).to_json()"
      ]
    },
    {
      "cell_type": "markdown",
      "metadata": {
        "id": "qb11u8_B7OjB"
      },
      "source": [
        "# Prompting"
      ]
    },
    {
      "cell_type": "code",
      "execution_count": null,
      "metadata": {
        "id": "XeSGSQgwpHZt"
      },
      "outputs": [],
      "source": [
        "trans_dir = 'Directory for transcript files'\n",
        "names = os.listdir(trans_dir)"
      ]
    },
    {
      "cell_type": "code",
      "execution_count": null,
      "metadata": {},
      "outputs": [],
      "source": [
        "for n in names:\n",
        "  data = pd.read_csv(trans_dir+n)\n",
        "  data['Turn'] = range(len(data))\n",
        "  d = data[['Turn', 'Speaker', 'Utterance']].iloc[0].to_json()\n",
        "  prompt = f\"\"\"I provided a schema for dialogue act classification in the dictionary, I provide the name of the dialogue act, the speaker,\n",
        "  and an example of dialogue act in the  dictionary: {sc}. Based on the speaker and the content of the utterance, your task is to select the appropriate dialogue act for the given sentence: {d} Only output the name of the dialogue act for the current sentence\"\"\"\n",
        "  r = get_completion(prompt)\n",
        "  l = [r]\n",
        "  for i in range(1,len(data)):\n",
        "    d = data[['Turn', 'Speaker', 'Utterance']].iloc[i].to_json()\n",
        "    dp = data[['Turn', 'Speaker', 'Utterance']].iloc[i-1].to_json()\n",
        "    prompt = f\"\"\"I provided a schema for dialogue act classification in the dictionary, I provide the name of the dialogue act, the speaker,\n",
        "  and an example of dialogue act in the  dictionary: {sc}. Based on the speaker and the content of the utterance, your task is to select the appropriate dialogue act for the given sentence: {d},\n",
        "  given that the previous the previous sentence is {dp} Only output the name of the dialogue act for the current sentence\"\"\"\n",
        "    r = get_completion(prompt)\n",
        "    l.append(r)\n",
        "  data['DA']=l\n",
        "  data.to_csv('Directory for DA labeled transcript files'+n)\n"
      ]
    }
  ],
  "metadata": {
    "colab": {
      "collapsed_sections": [
        "CeY1Qcp6-xHy",
        "mptSjzOC7LQF",
        "ytLV9qGy4fL2"
      ],
      "provenance": []
    },
    "kernelspec": {
      "display_name": "Python 3",
      "name": "python3"
    },
    "language_info": {
      "name": "python"
    }
  },
  "nbformat": 4,
  "nbformat_minor": 0
}
