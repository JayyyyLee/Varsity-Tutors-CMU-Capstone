{
  "nbformat": 4,
  "nbformat_minor": 0,
  "metadata": {
    "colab": {
      "provenance": []
    },
    "kernelspec": {
      "name": "python3",
      "display_name": "Python 3"
    },
    "language_info": {
      "name": "python"
    }
  },
  "cells": [
    {
      "cell_type": "code",
      "execution_count": 1,
      "metadata": {
        "id": "06MKZQ3HkNxF",
        "colab": {
          "base_uri": "https://localhost:8080/"
        },
        "outputId": "89a25314-9098-4d31-b945-e4a190738122"
      },
      "outputs": [
        {
          "output_type": "stream",
          "name": "stdout",
          "text": [
            "Collecting assemblyai\n",
            "  Downloading assemblyai-0.21.0-py3-none-any.whl (65 kB)\n",
            "\u001b[2K     \u001b[90m━━━━━━━━━━━━━━━━━━━━━━━━━━━━━━━━━━━━━━━━\u001b[0m \u001b[32m65.2/65.2 kB\u001b[0m \u001b[31m2.1 MB/s\u001b[0m eta \u001b[36m0:00:00\u001b[0m\n",
            "\u001b[?25hCollecting httpx>=0.19.0 (from assemblyai)\n",
            "  Downloading httpx-0.26.0-py3-none-any.whl (75 kB)\n",
            "\u001b[2K     \u001b[90m━━━━━━━━━━━━━━━━━━━━━━━━━━━━━━━━━━━━━━━━\u001b[0m \u001b[32m75.9/75.9 kB\u001b[0m \u001b[31m6.9 MB/s\u001b[0m eta \u001b[36m0:00:00\u001b[0m\n",
            "\u001b[?25hRequirement already satisfied: pydantic!=1.10.7,>=1.7.0 in /usr/local/lib/python3.10/dist-packages (from assemblyai) (2.6.1)\n",
            "Requirement already satisfied: typing-extensions>=3.7 in /usr/local/lib/python3.10/dist-packages (from assemblyai) (4.9.0)\n",
            "Collecting websockets>=11.0 (from assemblyai)\n",
            "  Downloading websockets-12.0-cp310-cp310-manylinux_2_5_x86_64.manylinux1_x86_64.manylinux_2_17_x86_64.manylinux2014_x86_64.whl (130 kB)\n",
            "\u001b[2K     \u001b[90m━━━━━━━━━━━━━━━━━━━━━━━━━━━━━━━━━━━━━━━━\u001b[0m \u001b[32m130.2/130.2 kB\u001b[0m \u001b[31m4.5 MB/s\u001b[0m eta \u001b[36m0:00:00\u001b[0m\n",
            "\u001b[?25hRequirement already satisfied: anyio in /usr/local/lib/python3.10/dist-packages (from httpx>=0.19.0->assemblyai) (3.7.1)\n",
            "Requirement already satisfied: certifi in /usr/local/lib/python3.10/dist-packages (from httpx>=0.19.0->assemblyai) (2024.2.2)\n",
            "Collecting httpcore==1.* (from httpx>=0.19.0->assemblyai)\n",
            "  Downloading httpcore-1.0.2-py3-none-any.whl (76 kB)\n",
            "\u001b[2K     \u001b[90m━━━━━━━━━━━━━━━━━━━━━━━━━━━━━━━━━━━━━━━━\u001b[0m \u001b[32m76.9/76.9 kB\u001b[0m \u001b[31m6.4 MB/s\u001b[0m eta \u001b[36m0:00:00\u001b[0m\n",
            "\u001b[?25hRequirement already satisfied: idna in /usr/local/lib/python3.10/dist-packages (from httpx>=0.19.0->assemblyai) (3.6)\n",
            "Requirement already satisfied: sniffio in /usr/local/lib/python3.10/dist-packages (from httpx>=0.19.0->assemblyai) (1.3.0)\n",
            "Collecting h11<0.15,>=0.13 (from httpcore==1.*->httpx>=0.19.0->assemblyai)\n",
            "  Downloading h11-0.14.0-py3-none-any.whl (58 kB)\n",
            "\u001b[2K     \u001b[90m━━━━━━━━━━━━━━━━━━━━━━━━━━━━━━━━━━━━━━━━\u001b[0m \u001b[32m58.3/58.3 kB\u001b[0m \u001b[31m6.0 MB/s\u001b[0m eta \u001b[36m0:00:00\u001b[0m\n",
            "\u001b[?25hRequirement already satisfied: annotated-types>=0.4.0 in /usr/local/lib/python3.10/dist-packages (from pydantic!=1.10.7,>=1.7.0->assemblyai) (0.6.0)\n",
            "Requirement already satisfied: pydantic-core==2.16.2 in /usr/local/lib/python3.10/dist-packages (from pydantic!=1.10.7,>=1.7.0->assemblyai) (2.16.2)\n",
            "Requirement already satisfied: exceptiongroup in /usr/local/lib/python3.10/dist-packages (from anyio->httpx>=0.19.0->assemblyai) (1.2.0)\n",
            "Installing collected packages: websockets, h11, httpcore, httpx, assemblyai\n",
            "Successfully installed assemblyai-0.21.0 h11-0.14.0 httpcore-1.0.2 httpx-0.26.0 websockets-12.0\n"
          ]
        }
      ],
      "source": [
        "!pip install assemblyai"
      ]
    },
    {
      "cell_type": "code",
      "source": [
        "!pip install openai==1.2.0"
      ],
      "metadata": {
        "colab": {
          "base_uri": "https://localhost:8080/"
        },
        "id": "razixoYZSOdY",
        "outputId": "db959319-8b06-4f58-8fb5-4188cfc5bf3b"
      },
      "execution_count": 5,
      "outputs": [
        {
          "output_type": "stream",
          "name": "stdout",
          "text": [
            "Collecting openai==1.2.0\n",
            "  Downloading openai-1.2.0-py3-none-any.whl (219 kB)\n",
            "\u001b[?25l     \u001b[90m━━━━━━━━━━━━━━━━━━━━━━━━━━━━━━━━━━━━━━━━\u001b[0m \u001b[32m0.0/219.9 kB\u001b[0m \u001b[31m?\u001b[0m eta \u001b[36m-:--:--\u001b[0m\r\u001b[2K     \u001b[91m━━━━━━━━━━━━━━━━━━\u001b[0m\u001b[91m╸\u001b[0m\u001b[90m━━━━━━━━━━━━━━━━━━━━━\u001b[0m \u001b[32m102.4/219.9 kB\u001b[0m \u001b[31m2.8 MB/s\u001b[0m eta \u001b[36m0:00:01\u001b[0m\r\u001b[2K     \u001b[90m━━━━━━━━━━━━━━━━━━━━━━━━━━━━━━━━━━━━━━━━\u001b[0m \u001b[32m219.9/219.9 kB\u001b[0m \u001b[31m3.8 MB/s\u001b[0m eta \u001b[36m0:00:00\u001b[0m\n",
            "\u001b[?25hRequirement already satisfied: anyio<4,>=3.5.0 in /usr/local/lib/python3.10/dist-packages (from openai==1.2.0) (3.7.1)\n",
            "Requirement already satisfied: distro<2,>=1.7.0 in /usr/lib/python3/dist-packages (from openai==1.2.0) (1.7.0)\n",
            "Requirement already satisfied: httpx<1,>=0.23.0 in /usr/local/lib/python3.10/dist-packages (from openai==1.2.0) (0.26.0)\n",
            "Requirement already satisfied: pydantic<3,>=1.9.0 in /usr/local/lib/python3.10/dist-packages (from openai==1.2.0) (2.6.1)\n",
            "Requirement already satisfied: tqdm>4 in /usr/local/lib/python3.10/dist-packages (from openai==1.2.0) (4.66.1)\n",
            "Requirement already satisfied: typing-extensions<5,>=4.5 in /usr/local/lib/python3.10/dist-packages (from openai==1.2.0) (4.9.0)\n",
            "Requirement already satisfied: idna>=2.8 in /usr/local/lib/python3.10/dist-packages (from anyio<4,>=3.5.0->openai==1.2.0) (3.6)\n",
            "Requirement already satisfied: sniffio>=1.1 in /usr/local/lib/python3.10/dist-packages (from anyio<4,>=3.5.0->openai==1.2.0) (1.3.0)\n",
            "Requirement already satisfied: exceptiongroup in /usr/local/lib/python3.10/dist-packages (from anyio<4,>=3.5.0->openai==1.2.0) (1.2.0)\n",
            "Requirement already satisfied: certifi in /usr/local/lib/python3.10/dist-packages (from httpx<1,>=0.23.0->openai==1.2.0) (2024.2.2)\n",
            "Requirement already satisfied: httpcore==1.* in /usr/local/lib/python3.10/dist-packages (from httpx<1,>=0.23.0->openai==1.2.0) (1.0.2)\n",
            "Requirement already satisfied: h11<0.15,>=0.13 in /usr/local/lib/python3.10/dist-packages (from httpcore==1.*->httpx<1,>=0.23.0->openai==1.2.0) (0.14.0)\n",
            "Requirement already satisfied: annotated-types>=0.4.0 in /usr/local/lib/python3.10/dist-packages (from pydantic<3,>=1.9.0->openai==1.2.0) (0.6.0)\n",
            "Requirement already satisfied: pydantic-core==2.16.2 in /usr/local/lib/python3.10/dist-packages (from pydantic<3,>=1.9.0->openai==1.2.0) (2.16.2)\n",
            "Installing collected packages: openai\n",
            "\u001b[31mERROR: pip's dependency resolver does not currently take into account all the packages that are installed. This behaviour is the source of the following dependency conflicts.\n",
            "llmx 0.0.15a0 requires cohere, which is not installed.\n",
            "llmx 0.0.15a0 requires tiktoken, which is not installed.\u001b[0m\u001b[31m\n",
            "\u001b[0mSuccessfully installed openai-1.2.0\n"
          ]
        }
      ]
    },
    {
      "cell_type": "code",
      "source": [
        "import openai\n",
        "from openai import OpenAI\n",
        "client = OpenAI(\n",
        "  api_key=\"bks-3f6fd9130cb4ba794b33bb22b1829f2fad3e0fbfc576cf78\",\n",
        "  base_url=\"https://api.trybricks.ai/api/providers/openai/v1\",\n",
        ")\n",
        "def get_completion(prompt, model = \"gpt-3.5-turbo\", temperature =0):\n",
        "  messages = [{\"role\":\"user\", \"content\": prompt}]\n",
        "  response = client.chat.completions.create(\n",
        "      model = model,\n",
        "      messages = messages,\n",
        "      temperature =temperature # degree of expiration (randomness) (0 same result - 1 creative)\n",
        "  )\n",
        "  return response.choices[0].message.content"
      ],
      "metadata": {
        "id": "I_Y4YGxlSRiG"
      },
      "execution_count": 6,
      "outputs": []
    },
    {
      "cell_type": "code",
      "source": [
        "from google.colab import drive\n",
        "drive.mount('/content/drive', force_remount=True)"
      ],
      "metadata": {
        "colab": {
          "base_uri": "https://localhost:8080/"
        },
        "id": "_XFJtRo_lWBa",
        "outputId": "6c907248-1f7d-41c0-81c6-111a1973e094"
      },
      "execution_count": 2,
      "outputs": [
        {
          "output_type": "stream",
          "name": "stdout",
          "text": [
            "Mounted at /content/drive\n"
          ]
        }
      ]
    },
    {
      "cell_type": "code",
      "source": [
        "import os\n",
        "import assemblyai as aai\n",
        "import pandas as pd\n",
        "import json\n",
        "\n",
        "aai.settings.api_key = \"c390f6c66e914d60be43328342231210\"\n",
        "names = os.listdir('/content/drive/MyDrive/Colab Notebooks/sampleaudio/audio')\n",
        "config = aai.TranscriptionConfig(\n",
        "  speaker_labels=True,\n",
        "  speakers_expected=2\n",
        ")\n"
      ],
      "metadata": {
        "id": "e17Qf6EvqHiZ"
      },
      "execution_count": 11,
      "outputs": []
    },
    {
      "cell_type": "code",
      "source": [
        "for n in names:\n",
        "  path = '/content/drive/MyDrive/Colab Notebooks/sampleaudio/audio/' + n\n",
        "  transcript = aai.Transcriber().transcribe(path, config)\n",
        "  speaker = []\n",
        "  text = []\n",
        "  start_time = []\n",
        "  end_time = []\n",
        "  for utterance in transcript.utterances:\n",
        "    speaker.append(utterance.speaker)\n",
        "    text.append(utterance.text)\n",
        "    start_time.append(utterance.start)\n",
        "    end_time.append(utterance.end)\n",
        "  result = pd.DataFrame({'Speaker': speaker, 'Utterance start time (milliseconds)': start_time, 'Utterance end time (milliseconds)': end_time,  'Utterance': text})\n",
        "\n",
        "  temp = [result['Speaker'][i]+ \" : \" + result['Utterance'][i]  for i in range(len(result))]\n",
        "  d = ' '.join(temp) [:4097]\n",
        "  prompt = f\"\"\"I will provide you a transcript of a tutor and a student.\n",
        "  There will to two speakers A and B. You task is to identify which is student and which is tutor.\n",
        "  Format your output in a JSON format with A,B as key; student, tutor as value\n",
        "  \"\"\" + d\n",
        "  r = get_completion(prompt)\n",
        "  print(r)\n",
        "  a = json.loads(r)\n",
        "  result = result.replace({'Speaker': a})\n",
        "\n",
        "\n",
        "  result.to_csv('/content/drive/MyDrive/Colab Notebooks/sampleaudio/transcript/'+n[:-4]+'.csv', index=False)"
      ],
      "metadata": {
        "id": "ti_qysq5nS5a",
        "colab": {
          "base_uri": "https://localhost:8080/"
        },
        "outputId": "96aa9d89-dd59-443e-cb17-d79c38c0d6de"
      },
      "execution_count": 12,
      "outputs": [
        {
          "output_type": "stream",
          "name": "stdout",
          "text": [
            "{\n",
            "  \"A\": \"student\",\n",
            "  \"B\": \"tutor\"\n",
            "}\n",
            "{\n",
            "  \"A\": \"tutor\",\n",
            "  \"B\": \"student\"\n",
            "}\n",
            "{\n",
            "  \"A\": \"tutor\",\n",
            "  \"B\": \"student\"\n",
            "}\n",
            "{\n",
            "  \"A\": \"student\",\n",
            "  \"B\": \"tutor\"\n",
            "}\n",
            "{\n",
            "  \"A\": \"student\",\n",
            "  \"B\": \"tutor\"\n",
            "}\n",
            "{\n",
            "  \"A\": \"student\",\n",
            "  \"B\": \"tutor\"\n",
            "}\n",
            "{\n",
            "  \"A\": \"tutor\",\n",
            "  \"B\": \"student\"\n",
            "}\n",
            "{\n",
            "  \"A\": \"student\",\n",
            "  \"B\": \"tutor\"\n",
            "}\n",
            "{\n",
            "  \"A\": \"tutor\",\n",
            "  \"B\": \"student\"\n",
            "}\n",
            "{\n",
            "  \"A\": \"tutor\",\n",
            "  \"B\": \"student\"\n",
            "}\n",
            "{\n",
            "  \"A\": \"student\",\n",
            "  \"B\": \"tutor\"\n",
            "}\n"
          ]
        }
      ]
    },
    {
      "cell_type": "code",
      "source": [
        "import os\n",
        "names = os.listdir('/content/drive/MyDrive/Colab Notebooks/sampleaudio/transcript')"
      ],
      "metadata": {
        "id": "m8EpkwyCyuP9"
      },
      "execution_count": null,
      "outputs": []
    },
    {
      "cell_type": "code",
      "source": [
        "names[2:]"
      ],
      "metadata": {
        "colab": {
          "base_uri": "https://localhost:8080/"
        },
        "id": "LgIs2wfVy6Fp",
        "outputId": "6b51779c-fe56-43b9-d569-c811c9b76adf"
      },
      "execution_count": null,
      "outputs": [
        {
          "output_type": "execute_result",
          "data": {
            "text/plain": [
              "['02c89eec-1b4f-4cb6-ae0f-ed00ae31d73f.csv',\n",
              " '9b2cf845-211b-489c-b799-fac19b192aaa.csv',\n",
              " '38a5f8bc-527e-4269-b7d3-4a16d0de4e55.csv',\n",
              " '43e4baec-0c91-47cd-be91-50ad67d268ab.csv',\n",
              " '575ada37-caf9-4dc6-9956-6d2e115bcf9f.csv',\n",
              " '9225e68c-9d52-4148-952d-70f417d77c19.csv',\n",
              " '63734916-95cc-43ee-ac5c-df0268e45b4d.csv',\n",
              " 'aa642ee0-766f-42a4-bc42-9ca928ee3273.csv',\n",
              " 'a7f7932a-3fa4-4797-be9c-320f61225d97.csv',\n",
              " '0e204b03-0e0c-49ef-aa70-52f5e4d08ff1.csv']"
            ]
          },
          "metadata": {},
          "execution_count": 43
        }
      ]
    },
    {
      "cell_type": "code",
      "source": [
        "t = pd.DataFrame({'file': names[2:], 'assign': [\"Kevin\", \"Kevin\", \"Mufei\" , \"Mufei\" , \"Sandy\",  \"Sandy\", \"Wayne\" , \"Wayne\" , \"Yujie\", \"Yujie\"]})\n",
        "t.to_csv('/content/drive/MyDrive/Colab Notebooks/sampleaudio/transcript/tasks.csv', index=False)"
      ],
      "metadata": {
        "id": "KYASuI0-y6KJ"
      },
      "execution_count": null,
      "outputs": []
    },
    {
      "cell_type": "code",
      "source": [],
      "metadata": {
        "id": "5as5ez-CzkJI"
      },
      "execution_count": null,
      "outputs": []
    }
  ]
}